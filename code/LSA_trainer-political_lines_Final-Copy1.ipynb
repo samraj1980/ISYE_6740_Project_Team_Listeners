{
 "cells": [
  {
   "cell_type": "code",
   "execution_count": 2,
   "metadata": {},
   "outputs": [],
   "source": [
    "import sqlite3\n",
    "from requests.exceptions import Timeout, ConnectionError\n",
    "import time\n",
    "from time import sleep\n",
    "import pandas as pd\n",
    "import pyodbc"
   ]
  },
  {
   "cell_type": "code",
   "execution_count": 3,
   "metadata": {},
   "outputs": [],
   "source": [
    "# Setting the connection strings\n",
    "server = 'tcp:isye-6420-project.database.windows.net,1433' \n",
    "database = 'topic_modelling' \n",
    "username = 'project_administrator' \n",
    "password = 'isye_6420_admin' \n",
    "conn = pyodbc.connect('DRIVER={ODBC Driver 17 for SQL Server};SERVER='+server+';DATABASE='+database+';UID='+username+';PWD='+ password)\n",
    "#SQLite cursor\n",
    "c = conn.cursor()"
   ]
  },
  {
   "cell_type": "code",
   "execution_count": 4,
   "metadata": {},
   "outputs": [],
   "source": [
    "# Method to read the twitter messages into the pandas dataframe\n",
    "def read_sql():\n",
    "    train_data =  pd.read_sql_query('select [tweet_text], [Political_party] from tweets_raw', conn) \n",
    "    return(train_data)"
   ]
  },
  {
   "cell_type": "code",
   "execution_count": 5,
   "metadata": {},
   "outputs": [],
   "source": [
    "# Step 1 : Data Loading \n",
    "    \n",
    "# Executing method to read twitter messages into dataframe\n",
    "#train_data = read_sql()\n",
    "    "
   ]
  },
  {
   "cell_type": "code",
   "execution_count": 6,
   "metadata": {},
   "outputs": [],
   "source": [
    "#(train_data.to_pickle('train_data.p'))"
   ]
  },
  {
   "cell_type": "code",
   "execution_count": 7,
   "metadata": {},
   "outputs": [],
   "source": [
    "train_data = pd.read_pickle('train_data.p')"
   ]
  },
  {
   "cell_type": "code",
   "execution_count": 8,
   "metadata": {
    "scrolled": true
   },
   "outputs": [
    {
     "name": "stdout",
     "output_type": "stream",
     "text": [
      "Index(['tweet_text', 'Political_party'], dtype='object')\n"
     ]
    }
   ],
   "source": [
    "# Step 2: Data Cleaning \n",
    "\n",
    "import warnings\n",
    "warnings.simplefilter(\"ignore\", DeprecationWarning)\n",
    "\n",
    "# print the train_data column names \n",
    "print(train_data.columns)\n",
    "\n",
    "# Load the regular expression library\n",
    "import re\n",
    "\n",
    "#  1. Remove URLs\n",
    "train_data['tweet_text'] = train_data['tweet_text'].apply(lambda x: re.split('https:\\/\\/.*', str(x))[0])\n",
    "\n",
    "# 2. Remove punctuation\n",
    "train_data['tweet_text'] = train_data['tweet_text'].map(lambda x: re.sub('[,\\.!?@]', '', x))\n",
    "train_data['tweet_text'] = train_data['tweet_text'].map(lambda x: re.sub('[!\"#$%&()*+,-./:;<=>?@[\\]^_`{|}~'']', '', x))\n",
    "\n",
    "# 3. Convert the titles to lowercase\n",
    "train_data['tweet_text'] = train_data['tweet_text'].map(lambda x: x.lower())\n",
    "\n",
    "# 4. Removing the word 'amp' \n",
    "train_data['tweet_text'] = train_data['tweet_text'].map(lambda x: re.sub('amp', '', x))\n",
    "\n",
    "# 5. #remove times pm\n",
    "train_data['tweet_text'] = train_data['tweet_text'].map(lambda x: re.sub('\\d+pm', '', x))\n",
    "\n",
    "# 6. Additional claeaning \n",
    "train_data['tweet_text'] = train_data['tweet_text'].map(lambda x: re.sub(\"it's\",'', x))\n",
    "train_data['tweet_text'] = train_data['tweet_text'].map(lambda x: re.sub(\"n't\",'', x))\n",
    "train_data['tweet_text'] = train_data['tweet_text'].map(lambda x: re.sub(\"'\",'', x))\n",
    "train_data['tweet_text'] = train_data['tweet_text'].map(lambda x: re.sub(\"-\",'', x))\n"
   ]
  },
  {
   "cell_type": "code",
   "execution_count": 9,
   "metadata": {},
   "outputs": [
    {
     "name": "stdout",
     "output_type": "stream",
     "text": [
      "0                                                   love\n",
      "1      2016 single question climate change presidenti...\n",
      "2      without doubt joebiden commanderinchief countr...\n",
      "3      leader among next generation democrats committ...\n",
      "4      moving tribute mayor keishabottoms dear friend...\n",
      "                             ...                        \n",
      "995                     hope guys enjoyed interntakeover\n",
      "996    bonus rounddd 🚨🚨🚨 chooses statues statuary hal...\n",
      "997                  many statues national statuary hall\n",
      "998           designed u capitol sorry options long poll\n",
      "999                 congress first meet capitol building\n",
      "Name: tweet_text, Length: 1000, dtype: object\n"
     ]
    }
   ],
   "source": [
    "# 7. Removing Stopwords \n",
    "\n",
    "import nltk \n",
    "from nltk.corpus import stopwords\n",
    "\n",
    "STOPWORDS = set(stopwords.words('english','spanish'))\n",
    "def remove(text,wordset=STOPWORDS):\n",
    "    splits = text.split()\n",
    "    result=[]\n",
    "    for split in splits:\n",
    "        if split not in wordset:\n",
    "            result.append(split)\n",
    "    return (\" \".join(result))        \n",
    "\n",
    "train_data['tweet_text'] = train_data['tweet_text'].apply(lambda x: remove(x))\n",
    "\n",
    "print(train_data['tweet_text'].head(1000))"
   ]
  },
  {
   "cell_type": "code",
   "execution_count": 10,
   "metadata": {},
   "outputs": [
    {
     "name": "stdout",
     "output_type": "stream",
     "text": [
      "0                                                      love\n",
      "1         single question climate change presidential de...\n",
      "2              doubt commanderinchief country demconvention\n",
      "3         leader next generation service future first st...\n",
      "4             mayor dear way vote text vote plan vote today\n",
      "                                ...                        \n",
      "101794                      company manufacturing job visit\n",
      "101795    freedom time way life economy american dream c...\n",
      "101796     hearing clear policy justice scotus constitution\n",
      "101797    abortion many people year covid19 country prev...\n",
      "101798                                              problem\n",
      "Name: tweet_text, Length: 101799, dtype: object\n"
     ]
    }
   ],
   "source": [
    "#  8. To retain only the Nouns and Adjectives in every tweet \n",
    "\n",
    "import spacy\n",
    "\n",
    "# Initialize spacy 'en' model, keeping only tagger component (for efficiency)\n",
    "nlp = spacy.load(\"en_core_web_sm\", disable=['parser', 'ner'])\n",
    "\n",
    "def lemmatization(texts, allowed_postags=['NOUN', 'ADJ']):\n",
    "    \"\"\"https://spacy.io/api/annotation\"\"\"\n",
    "    doc = nlp(texts) \n",
    "    texts_out = \" \".join([token.lemma_ for token in doc if token.pos_ in allowed_postags])\n",
    "    return texts_out     \n",
    "\n",
    "# Do lemmatization keeping only noun, adj parts of speech (POS)\n",
    "train_data['tweet_text'] = train_data['tweet_text'].apply(lambda x: lemmatization(x, allowed_postags=['NOUN', 'ADJ']))\n",
    "\n",
    "print(train_data['tweet_text'])"
   ]
  },
  {
   "cell_type": "code",
   "execution_count": 11,
   "metadata": {},
   "outputs": [],
   "source": [
    "# 9. To eliminate additional words \n",
    "\n",
    "eliminate_words = ['today', 'year', 'people', 'time', 'great', 'day', 'morning', 'evening', 'community', 'important',\n",
    "                   'many', 'family', 'sure', 'visit', 'https', 'new', 'work', 'proud', 'thank', 'good', 'way', 'help',\n",
    "                   'need', 'member', 'week', 'nation', 'support', 'last', 'effort', 'yesterday', 'news', 'watch', 'state',\n",
    "                   'safe', 'happy', 'birthday', 'colleague', 'tonight', 'part', 'much', 'now', 'country', 'leader', 'program',\n",
    "                   'congratulation', 'conversation', 'fact', 'government', 'house', 'right', 'tomorrow', 'question', 'long',\n",
    "                   'public', 'big', 'million', 'benefit', 'information', 'report' , 'friend', 'life', 'bad' , 'word', 'true',\n",
    "                   'woman', 'man', 'local', 'action', 'resource', 'high','school', 'opportunity', 'town', 'event', 'meeting',\n",
    "                   'tune', 'pm', 'student', 'live', 'discussion', 'discuss', 'child', 'world', 'policy', 'condition', 'hand',  \n",
    "                   'office', 'place', 'resident', 'site' , 'concern', 'city', 'free', 'congressional', 'WORKER', 'history',\n",
    "                   'M', 'P', 'wonderful', 'team', 'update', 'facebook', 'minute', 'op', 'water', 'food', 'hour', 'pm', \n",
    "                   'thing', 'art', 'folk', 'annual', 'prayer', 'thought', 'heart', 'statement', 'story', 'special', 'pre',\n",
    "                   'honor', 'young', 'neighbor', 'night', 'district', 'late', 'moment', 'case', 'census', 'person', 'voice', \n",
    "                   'wrong',  'share', 'victory', 'grateful', 'century', 'kid', 'difficult', 'afternoon', 'love', 'youth', \n",
    "                   'fellow', 'mother',  'comment', 'official', 'month', 'worker', 'p m', ' m ', 'crisis', 'issue']\n",
    "\n",
    "train_data['tweet_text'] = train_data['tweet_text'].apply(lambda x: remove(x, wordset=eliminate_words ))"
   ]
  },
  {
   "cell_type": "code",
   "execution_count": 12,
   "metadata": {},
   "outputs": [],
   "source": [
    "extra_words = {'today','thank','11','wa','con','por','del','los','que','para','en','el','la','de','sure','know','make','going','your',\n",
    "'about','they','ve','we','re','ing','im','proud','ago','act','tonight','tune','live','morning','listen','join','discuss',\n",
    "'forward','great','will','see','must','tomorrow','day','one','host','hall','god','bless','about','happy','birthday',\n",
    "'birth','fireside','chat','celebrating','christmas','roshhashanah','graduation','high','celebration','yom kippur','time',\n",
    "'year','new','easter','art','competition','guest','hosting','seanhannity','facebook','ill','wolfblitzer','joining',\n",
    "'fridayswithfrank','town','hold','sunday','night','thanks','watching','point','good','nightclub','camdencountynj',\n",
    "'weekly','update','page','yom','kippur','congratulations','congratulation','eaglej','scout','weeks','week','todays',\n",
    "'daily','yesterday','youll','cnnsitrom','shortly','minute','happening','soon','foxnews','900p','ne02','gobierno',\n",
    "'estados','unidos','visite','nuestra','pagina ','federales','estados','agencias','kbtxnews','totally','agree','wtaw1620',\n",
    "'icymi','segment','coming','soon','et','praying','speedy','frequently','asked','question','thought','share','noon','newsletter',\n",
    "'clicking','exactly','right','1000p','1100p','wishing','algal','bloom','app','receive','245th','244th','start','hour',\n",
    "'olg','youve','loudobbs','foxbusiness','free','feel','passionate','west','palm','sign','link','va','inside','ill',\n",
    "'foxandfriend','valley','watch','informacion','espanol','acerca','sus','link','servicios','pagina','ill','foxandfriend',\n",
    "'valley','watch','informacion','espanol','acerca','kwtx','ne03', 'quid','foxnewsnight','pagina','espanol','quid','passover',\n",
    "'simonradio1776','whoradio', '800wvhu','ill3'}\n",
    "\n",
    "train_data['tweet_text'] = train_data['tweet_text'].apply(lambda x: remove(x,extra_words))\n"
   ]
  },
  {
   "cell_type": "code",
   "execution_count": 13,
   "metadata": {},
   "outputs": [],
   "source": [
    "# 10. Replace with Synomyms \n",
    "\n",
    "def replace_synonyms(text):\n",
    "    splits = text.split()\n",
    "    result=[]\n",
    "    for split in splits:\n",
    "        if split in synonyms:\n",
    "            result.append(synonyms[split])\n",
    "        else:\n",
    "            result.append(split)\n",
    "    return (\" \".join(result))        \n",
    "\n",
    "#replace synonyms\n",
    "synonyms = {'donald':'trump','realdonaldtrump':'trump','joebiden':'biden'}\n",
    "#synonyms = {'donald':'trump','realdonaldtrump':'trump','joebiden':'biden'}\n",
    "#synonyms = {'paycheck protection':'paycheck protection program','protection program':'paycheck protection program'}\n",
    "#synonyms = {'admin':'administration'}\n",
    "#synonyms = {'realdonaldtrump':'trump'}\n",
    "#synonyms = {'joebiden':'biden'}\n",
    "train_data['tweet_text'] = train_data['tweet_text'].apply(lambda x: replace_synonyms(x))"
   ]
  },
  {
   "cell_type": "code",
   "execution_count": 14,
   "metadata": {},
   "outputs": [
    {
     "data": {
      "image/png": "[encoded data removed]",
      "text/plain": [
       "<PIL.Image.Image image mode=RGB size=400x200 at 0x1C16C060208>"
      ]
     },
     "execution_count": 14,
     "metadata": {},
     "output_type": "execute_result"
    }
   ],
   "source": [
    "# Step 3: Exploratory Analysis \n",
    "\n",
    "# Import the wordcloud library\n",
    "import wordcloud\n",
    "from wordcloud import WordCloud\n",
    "\n",
    "# Spliting across party Lines \n",
    "#train_data_dem = train_data.loc[train_data['Political_party'] == \"Democratic Party\"]\n",
    "train_data_dem = train_data.loc[(train_data['Political_party'] == \"Republican Party\") | (train_data['Political_party'] == \"Democratic Party\") ]\n",
    "\n",
    "#train_data_rep = train_data.loc[train_data['Political_party'] == \"Republican Party\"]\n",
    "\n",
    "# Join the different processed tweets together.\n",
    "long_string_dem = ','.join(list(train_data_dem['tweet_text'].values))\n",
    "#long_string_rep = ','.join(list(train_data_rep['tweet_text'].values))\n",
    "\n",
    "# Create a WordCloud object\n",
    "wordcloud_dem = WordCloud(background_color=\"white\", max_words=5000, contour_width=10, contour_color='steelblue')\n",
    "#wordcloud_rep = WordCloud(background_color=\"white\", max_words=5000, contour_width=10, contour_color='steelblue')\n",
    "\n",
    "# Generate a word cloud\n",
    "wordcloud_dem.generate(long_string_dem)\n",
    "# Visualize the Democratic word cloud\n",
    "wordcloud_dem.to_image()\n"
   ]
  },
  {
   "cell_type": "code",
   "execution_count": 15,
   "metadata": {},
   "outputs": [],
   "source": [
    "# Step 4: Data Preparation before training Model \n",
    "\n",
    "# Load the library with the CountVectorizer method\n",
    "from sklearn.feature_extraction.text import CountVectorizer\n",
    "import numpy as np\n",
    "import matplotlib.pyplot as plt\n",
    "import seaborn as sns\n",
    "sns.set_style('whitegrid')\n",
    "%matplotlib inline\n",
    "\n",
    "# Helper function\n",
    "def plot_30_most_common_words(count_data, count_vectorizer):\n",
    "    import matplotlib.pyplot as plt\n",
    "    words = count_vectorizer.get_feature_names()\n",
    "    total_counts = np.zeros(len(words))\n",
    "    for t in count_data:\n",
    "        total_counts+=t.toarray()[0]\n",
    "    \n",
    "    count_dict = (zip(words, total_counts))\n",
    "    count_dict = sorted(count_dict, key=lambda x:x[1], reverse=True)[0:30]\n",
    "    words = [w[0] for w in count_dict]\n",
    "    counts = [w[1] for w in count_dict]\n",
    "    x_pos = np.arange(len(words)) \n",
    "    \n",
    "    plt.figure(2, figsize=(15, 15/1.6180))\n",
    "    plt.subplot(title='20 most common words')\n",
    "    sns.set_context(\"notebook\", font_scale=1.25, rc={\"lines.linewidth\": 2.5})\n",
    "    sns.barplot(x_pos, counts, palette='husl')\n",
    "    plt.xticks(x_pos, words, rotation=90) \n",
    "    plt.xlabel('words')\n",
    "    plt.ylabel('counts')\n",
    "    plt.show()\n",
    "\n",
    "\n"
   ]
  },
  {
   "cell_type": "code",
   "execution_count": 16,
   "metadata": {},
   "outputs": [
    {
     "data": {
      "image/png": "[encoded data removed]",
      "text/plain": [
       "<Figure size 1080x667.491 with 1 Axes>"
      ]
     },
     "metadata": {
      "needs_background": "light"
     },
     "output_type": "display_data"
    }
   ],
   "source": [
    "# 30_most_common_words in Democrats tweets\n",
    "from sklearn.feature_extraction.text import HashingVectorizer\n",
    "hv = HashingVectorizer(n_features=10)\n",
    "hv.transform(train_data_dem[\"tweet_text\"])   \n",
    "\n",
    "from sklearn.feature_extraction.text import TfidfVectorizer\n",
    "count_vectorizer_dem = TfidfVectorizer(analyzer='word', token_pattern=r'\\w{1,}', ngram_range=(2,3),use_idf=True, lowercase=True, strip_accents=\"ascii\", stop_words='english', max_features= 1000)\n",
    "# Fit and transform the processed tweets\n",
    "count_data_dem = count_vectorizer_dem.fit_transform(train_data_dem['tweet_text'])\n",
    "# Visualise the 30 most common words\n",
    "plot_30_most_common_words(count_data_dem, count_vectorizer_dem)\n"
   ]
  },
  {
   "cell_type": "code",
   "execution_count": 17,
   "metadata": {},
   "outputs": [],
   "source": [
    "from sklearn.feature_extraction.text import TfidfVectorizer\n",
    "count_vectorizer_demo = TfidfVectorizer(analyzer='word', token_pattern=r'\\w{1,}', use_idf=True, lowercase=True, strip_accents=\"ascii\", stop_words='english')\n",
    "#count_vectorizer_repub =TfidfVectorizer(analyzer='word', token_pattern=r'\\w{1,}', use_idf=True, lowercase=True, strip_accents=\"ascii\", stop_words='english')\n",
    "\n",
    "# Calculate DocTerm Matrices\n",
    "count_data_demo = count_vectorizer_demo.fit_transform(train_data_dem['tweet_text'])\n",
    "#count_data_repub = count_vectorizer_repub.fit_transform(train_data_rep['tweet_text'])"
   ]
  },
  {
   "cell_type": "code",
   "execution_count": 25,
   "metadata": {},
   "outputs": [
    {
     "data": {
      "text/plain": [
       "<99402x26355 sparse matrix of type '<class 'numpy.float64'>'\n",
       "\twith 560116 stored elements in Compressed Sparse Row format>"
      ]
     },
     "execution_count": 25,
     "metadata": {},
     "output_type": "execute_result"
    }
   ],
   "source": [
    "print(count_data_demo[0,:])"
   ]
  },
  {
   "cell_type": "code",
   "execution_count": 26,
   "metadata": {},
   "outputs": [],
   "source": [
    "# Democratic Party \n",
    "\n",
    "from gensim import corpora\n",
    "from sklearn.decomposition import TruncatedSVD as LSA\n",
    "\n",
    "\n",
    "# Create Dictionary\n",
    "text_dems=[[text for text in doc.split()] for doc in train_data_dem['tweet_text']]\n",
    "dictionary_dems = corpora.Dictionary(text_dems)\n",
    "corpus_dems= [dictionary_dems.doc2bow(text) for text in text_dems]\n",
    "\n"
   ]
  },
  {
   "cell_type": "code",
   "execution_count": 27,
   "metadata": {},
   "outputs": [],
   "source": [
    "#Build manual tokenized topics\n",
    "def TokenTopics(DocTerm, TopicAffinity,NumTerms=10):\n",
    "    result=[]\n",
    "    for i,topic in enumerate(TopicAffinity):\n",
    "        result.append([DocTerm.get_feature_names()[i] for i in topic.argsort()[-NumTerms:]]) \n",
    "    return result\n",
    "\n",
    "def CalculateCoherence(corpus1,dictionary1,text1,tt,coherence1='c_v'):\n",
    "    cm=0\n",
    "    if coherence1[0]=='u':\n",
    "        cm = CoherenceModel(topics=tt, corpus=corpus1, dictionary=dictionary1, coherence=coherence1,processes=-1)    \n",
    "    else: \n",
    "        cm = CoherenceModel(topics=tt, texts=text1, dictionary=dictionary1, coherence=coherence1,processes=-1)\n",
    "    return cm.get_coherence()\n",
    "\n"
   ]
  },
  {
   "cell_type": "code",
   "execution_count": 28,
   "metadata": {},
   "outputs": [
    {
     "name": "stdout",
     "output_type": "stream",
     "text": [
      "False\n",
      "False\n"
     ]
    }
   ],
   "source": [
    "print(np.isinf(count_data_demo.data).any())\n",
    "print(np.isnan(count_data_demo.data).any())\n"
   ]
  },
  {
   "cell_type": "code",
   "execution_count": 22,
   "metadata": {},
   "outputs": [
    {
     "name": "stdout",
     "output_type": "stream",
     "text": [
      "5\n",
      "6\n",
      "7\n",
      "8\n",
      "9\n",
      "10\n",
      "11\n",
      "12\n",
      "13\n",
      "14\n",
      "15\n",
      "16\n",
      "17\n",
      "18\n",
      "19\n",
      "20\n",
      "21\n",
      "22\n",
      "23\n",
      "24\n",
      "25\n",
      "26\n",
      "27\n",
      "28\n",
      "29\n"
     ]
    }
   ],
   "source": [
    "#Try different topic sizes, parameters\n",
    "from gensim.models.coherencemodel import CoherenceModel\n",
    "coherence_dems = dict()\n",
    "\n",
    "for a in range(5,30):\n",
    "    \n",
    "    print(a)\n",
    "    \n",
    "    LSA_demo = LSA(n_components=a, random_state=42, n_iter=100, algorithm='randomized')\n",
    "    LSA_demo.fit_transform(count_data_demo)\n",
    "    tt = TokenTopics(count_vectorizer_demo,LSA_demo.components_)\n",
    "    \n",
    "    label='p'+str(a)\n",
    "    coherence_dems[label]=CalculateCoherence(corpus_dems,dictionary_dems,text_dems,tt,'c_v')\n",
    "    \n",
    "  "
   ]
  },
  {
   "cell_type": "code",
   "execution_count": 23,
   "metadata": {
    "scrolled": true
   },
   "outputs": [
    {
     "data": {
      "text/plain": [
       "[0.28893162629887226,\n",
       " 0.27303729817345695,\n",
       " 0.279289508455291,\n",
       " 0.2848244298521908,\n",
       " 0.28907466993710906,\n",
       " 0.28810409128135,\n",
       " 0.2792241818262278,\n",
       " 0.28995348172133123,\n",
       " 0.28402110445863815,\n",
       " 0.29041760773950526,\n",
       " 0.3170177155889883,\n",
       " 0.33743182182118914,\n",
       " 0.34152832525458793,\n",
       " 0.3341329896793585,\n",
       " 0.3396639159474366,\n",
       " 0.3340064738491916,\n",
       " 0.3338817846992156,\n",
       " 0.3255788816113647,\n",
       " 0.3277340791657445,\n",
       " 0.3242825441827381,\n",
       " 0.33022810705715083,\n",
       " 0.32517849979338015,\n",
       " 0.3239182782319294,\n",
       " 0.32301452281473475,\n",
       " 0.3171318214907046]"
      ]
     },
     "execution_count": 23,
     "metadata": {},
     "output_type": "execute_result"
    }
   ],
   "source": [
    "coherence_score = list(coherence_dems.values())\n",
    "coherence_score"
   ]
  },
  {
   "cell_type": "code",
   "execution_count": 36,
   "metadata": {},
   "outputs": [
    {
     "data": {
      "image/png": "[encoded data removed]",
      "text/plain": [
       "<Figure size 432x288 with 1 Axes>"
      ]
     },
     "metadata": {
      "needs_background": "light"
     },
     "output_type": "display_data"
    }
   ],
   "source": [
    "# Show graph\n",
    "x = range(5,30)\n",
    "plt.plot(x, coherence_score)\n",
    "plt.xlabel(\"Number of Topics\")\n",
    "plt.ylabel(\"Coherence score\")\n",
    "plt.legend((\"coherence_values\"), loc='best')\n",
    "plt.show()"
   ]
  },
  {
   "cell_type": "code",
   "execution_count": 31,
   "metadata": {},
   "outputs": [],
   "source": [
    "# Create the LSA Model with Optimal paramters obtained from above step for Democratic party \n",
    " \n",
    "#largest = max(coherence_score)\n",
    "#a = coherence_score.index(largest) + 5\n",
    "#print(a)\n",
    "LSA_demo = LSA(n_components=17, random_state=42, n_iter=100, algorithm='randomized')\n",
    "LSA_dem = LSA_demo.fit_transform(count_data_demo)\n",
    "\n"
   ]
  },
  {
   "cell_type": "code",
   "execution_count": 32,
   "metadata": {},
   "outputs": [
    {
     "name": "stdout",
     "output_type": "stream",
     "text": [
      "Topic 0: \n",
      "['health', 'business', 'care', 'small', 'american', 'covid19', 'job', 'service', 'economy', 'federal']\n",
      "Topic 1: \n",
      "['business', 'small', 'loan', 'relief', 'economy', 'owner', 'job', 'paycheck', 'ppp', 'employee']\n",
      "Topic 2: \n",
      "['american', 'vote', 'job', 'impeachment', 'president', 'trump', 'law', 'election', 'service', 'economy']\n",
      "Topic 3: \n",
      "['service', 'veteran', 'sacrifice', 'federal', 'brave', 'military', 'covid19', 'freedom', 'postal', 'critical']\n",
      "Topic 4: \n",
      "['vote', 'impeachment', 'election', 'law', 'legislation', 'democracy', 'president', 'violence', 'small', 'ballot']\n",
      "Topic 5: \n",
      "['american', 'service', 'business', 'small', 'veteran', 'care', 'health', 'impeachment', 'sacrifice', 'freedom']\n",
      "Topic 6: \n",
      "['job', 'vote', 'economy', 'service', 'care', 'veteran', 'unemployment', 'wage', 'low', 'strong']\n",
      "Topic 7: \n",
      "['covid19', 'vote', 'american', 'testing', 'relief', 'response', 'package', 'mask', 'virus', 'service']\n",
      "Topic 8: \n",
      "['impeachment', 'president', 'trump', 'covid19', 'inquiry', 'service', 'article', 'pandemic', 'power', 'process']\n",
      "Topic 9: \n",
      "['federal', 'agency', 'funding', 'impeachment', 'assistance', 'service', 'staff', 'employee', 'trump', 'vote']\n",
      "Topic 10: \n",
      "['veteran', 'impeachment', 'federal', 'care', 'assistance', 'inquiry', 'agency', 'american', 'suicide', 'job']\n",
      "Topic 11: \n",
      "['border', 'security', 'veteran', 'legislation', 'national', 'trump', 'drug', 'violence', 'southern', 'bipartisan']\n",
      "Topic 12: \n",
      "['trump', 'veteran', 'election', 'vote', 'law', 'pandemic', 'democracy', 'power', 'federal', 'enforcement']\n",
      "Topic 13: \n",
      "['border', 'security', 'impeachment', 'law', 'national', 'southern', 'vote', 'wall', 'immigration', 'job']\n",
      "Topic 14: \n",
      "['drug', 'prescription', 'cost', 'low', 'price', 'care', 'trump', 'affordable', 'legislation', 'access']\n",
      "Topic 15: \n",
      "['economy', 'strong', 'future', 'climate', 'change', 'economic', 'impact', 'generation', 'leadership', 'clean']\n",
      "Topic 16: \n",
      "['president', 'election', 'drug', 'prescription', 'cost', 'low', 'price', 'economy', 'federal', 'power']\n"
     ]
    }
   ],
   "source": [
    "terms = count_vectorizer_demo.get_feature_names()\n",
    "topic_dems = dict()\n",
    "\n",
    "for i, comp in enumerate(LSA_demo.components_):\n",
    "    print_topic = [] \n",
    "    terms_comp = zip(terms, comp)\n",
    "    sorted_terms = sorted(terms_comp, key= lambda x:x[1], reverse=True)[:10]\n",
    "    label = \"topic_\" + str(i)\n",
    "    print(\"Topic \"+str(i)+\": \")\n",
    "    for t in sorted_terms:\n",
    "        print_topic.append(t[0])\n",
    "    print(print_topic)\n",
    "    topic_dems[label] = print_topic[0] + '-' + print_topic[1] + '-' + print_topic[2]\n",
    "    "
   ]
  },
  {
   "cell_type": "code",
   "execution_count": 33,
   "metadata": {},
   "outputs": [
    {
     "data": {
      "text/plain": [
       "{'topic_0': 'health-business-care',\n",
       " 'topic_1': 'business-small-loan',\n",
       " 'topic_2': 'american-vote-job',\n",
       " 'topic_3': 'service-veteran-sacrifice',\n",
       " 'topic_4': 'vote-impeachment-election',\n",
       " 'topic_5': 'american-service-business',\n",
       " 'topic_6': 'job-vote-economy',\n",
       " 'topic_7': 'covid19-vote-american',\n",
       " 'topic_8': 'impeachment-president-trump',\n",
       " 'topic_9': 'federal-agency-funding',\n",
       " 'topic_10': 'veteran-impeachment-federal',\n",
       " 'topic_11': 'border-security-veteran',\n",
       " 'topic_12': 'trump-veteran-election',\n",
       " 'topic_13': 'border-security-impeachment',\n",
       " 'topic_14': 'drug-prescription-cost',\n",
       " 'topic_15': 'economy-strong-future',\n",
       " 'topic_16': 'president-election-drug'}"
      ]
     },
     "execution_count": 33,
     "metadata": {},
     "output_type": "execute_result"
    }
   ],
   "source": [
    "topic_dems"
   ]
  },
  {
   "cell_type": "code",
   "execution_count": 34,
   "metadata": {
    "scrolled": true
   },
   "outputs": [
    {
     "data": {
      "text/html": [
       "<div>\n",
       "<style scoped>\n",
       "    .dataframe tbody tr th:only-of-type {\n",
       "        vertical-align: middle;\n",
       "    }\n",
       "\n",
       "    .dataframe tbody tr th {\n",
       "        vertical-align: top;\n",
       "    }\n",
       "\n",
       "    .dataframe thead th {\n",
       "        text-align: right;\n",
       "    }\n",
       "</style>\n",
       "<table border=\"1\" class=\"dataframe\">\n",
       "  <thead>\n",
       "    <tr style=\"text-align: right;\">\n",
       "      <th></th>\n",
       "      <th>documents</th>\n",
       "      <th>probable_Topic</th>\n",
       "      <th>Topic_Probability</th>\n",
       "    </tr>\n",
       "  </thead>\n",
       "  <tbody>\n",
       "    <tr>\n",
       "      <th>0</th>\n",
       "      <td></td>\n",
       "      <td>american-service-business</td>\n",
       "      <td>0.0000000000000125</td>\n",
       "    </tr>\n",
       "    <tr>\n",
       "      <th>1</th>\n",
       "      <td>single climate change presidential debate lett...</td>\n",
       "      <td>economy-strong-future</td>\n",
       "      <td>0.1029862545346144</td>\n",
       "    </tr>\n",
       "    <tr>\n",
       "      <th>2</th>\n",
       "      <td>doubt commanderinchief demconvention</td>\n",
       "      <td>border-security-veteran</td>\n",
       "      <td>0.0020393908695196</td>\n",
       "    </tr>\n",
       "    <tr>\n",
       "      <th>3</th>\n",
       "      <td>next generation service future first step well...</td>\n",
       "      <td>service-veteran-sacrifice</td>\n",
       "      <td>0.1947161252865554</td>\n",
       "    </tr>\n",
       "    <tr>\n",
       "      <th>4</th>\n",
       "      <td>mayor dear vote text vote plan vote</td>\n",
       "      <td>vote-impeachment-election</td>\n",
       "      <td>0.5051265256447991</td>\n",
       "    </tr>\n",
       "    <tr>\n",
       "      <th>...</th>\n",
       "      <td>...</td>\n",
       "      <td>...</td>\n",
       "      <td>...</td>\n",
       "    </tr>\n",
       "    <tr>\n",
       "      <th>99397</th>\n",
       "      <td>medicareforall run onesizefitsall health plan ...</td>\n",
       "      <td>job-vote-economy</td>\n",
       "      <td>0.2856164965997882</td>\n",
       "    </tr>\n",
       "    <tr>\n",
       "      <th>99398</th>\n",
       "      <td>low gas price obama republican focus productio...</td>\n",
       "      <td>economy-strong-future</td>\n",
       "      <td>0.1563373002257500</td>\n",
       "    </tr>\n",
       "    <tr>\n",
       "      <th>99399</th>\n",
       "      <td>job market employment optimism workforce unemp...</td>\n",
       "      <td>american-vote-job</td>\n",
       "      <td>0.0539918829548894</td>\n",
       "    </tr>\n",
       "    <tr>\n",
       "      <th>99400</th>\n",
       "      <td>dominance socialist green deal gopheat</td>\n",
       "      <td>covid19-vote-american</td>\n",
       "      <td>0.1463690391011187</td>\n",
       "    </tr>\n",
       "    <tr>\n",
       "      <th>99401</th>\n",
       "      <td>service</td>\n",
       "      <td>border-security-veteran</td>\n",
       "      <td>0.0238028496359079</td>\n",
       "    </tr>\n",
       "  </tbody>\n",
       "</table>\n",
       "<p>99402 rows × 3 columns</p>\n",
       "</div>"
      ],
      "text/plain": [
       "                                               documents  \\\n",
       "0                                                          \n",
       "1      single climate change presidential debate lett...   \n",
       "2                   doubt commanderinchief demconvention   \n",
       "3      next generation service future first step well...   \n",
       "4                    mayor dear vote text vote plan vote   \n",
       "...                                                  ...   \n",
       "99397  medicareforall run onesizefitsall health plan ...   \n",
       "99398  low gas price obama republican focus productio...   \n",
       "99399  job market employment optimism workforce unemp...   \n",
       "99400             dominance socialist green deal gopheat   \n",
       "99401                                            service   \n",
       "\n",
       "                  probable_Topic  Topic_Probability  \n",
       "0      american-service-business 0.0000000000000125  \n",
       "1          economy-strong-future 0.1029862545346144  \n",
       "2        border-security-veteran 0.0020393908695196  \n",
       "3      service-veteran-sacrifice 0.1947161252865554  \n",
       "4      vote-impeachment-election 0.5051265256447991  \n",
       "...                          ...                ...  \n",
       "99397           job-vote-economy 0.2856164965997882  \n",
       "99398      economy-strong-future 0.1563373002257500  \n",
       "99399          american-vote-job 0.0539918829548894  \n",
       "99400      covid19-vote-american 0.1463690391011187  \n",
       "99401    border-security-veteran 0.0238028496359079  \n",
       "\n",
       "[99402 rows x 3 columns]"
      ]
     },
     "metadata": {},
     "output_type": "display_data"
    }
   ],
   "source": [
    "pd.options.display.float_format = '{:,.16f}'.format\n",
    "topic_encoded_df = pd.DataFrame(LSA_dem, columns = [\"topic_0\", \"topic_1\", \"topic_2\", \"topic_3\",\"topic_4\",\"topic_5\", \"topic_6\", \"topic_7\", \"topic_8\", \"topic_9\", \"topic_10\", \"topic_11\", \"topic_12\", \"topic_13\", \"topic_14\", \"topic_15\", \"topic_16\"])\n",
    "topic_encoded_df[\"probable_Topic\"] = topic_encoded_df.idxmax(axis=1)\n",
    "topic_encoded_df[\"Topic_Probability\"] = topic_encoded_df.max(axis=1)\n",
    "topic_encoded_df[\"documents\"] = train_data['tweet_text']\n",
    "topic_encoded_df[\"probable_Topic\"].replace(topic_dems, inplace=True)\n",
    "display(topic_encoded_df[[\"documents\", \"probable_Topic\", \"Topic_Probability\"]])"
   ]
  },
  {
   "cell_type": "code",
   "execution_count": 35,
   "metadata": {},
   "outputs": [],
   "source": [
    "democ_topic_model = topic_encoded_df[[\"documents\", \"probable_Topic\", \"Topic_Probability\"]]"
   ]
  },
  {
   "cell_type": "code",
   "execution_count": 36,
   "metadata": {
    "scrolled": true
   },
   "outputs": [],
   "source": [
    "democ_topic_model = democ_topic_model.reset_index(drop=True)"
   ]
  },
  {
   "cell_type": "code",
   "execution_count": 37,
   "metadata": {},
   "outputs": [],
   "source": [
    "democ_data  = pd.read_pickle('train_data.p')\n",
    "democ_data = democ_data.loc[(democ_data['Political_party'] == \"Republican Party\") | (democ_data['Political_party'] == \"Democratic Party\") ]\n",
    "democ_data = democ_data.reset_index(drop=True)\n",
    "\n",
    "#democ_data =  pd.read_sql_query(\"select [tweet_text] from tweets_raw \", conn) "
   ]
  },
  {
   "cell_type": "code",
   "execution_count": 38,
   "metadata": {
    "scrolled": true
   },
   "outputs": [
    {
     "data": {
      "text/html": [
       "<div>\n",
       "<style scoped>\n",
       "    .dataframe tbody tr th:only-of-type {\n",
       "        vertical-align: middle;\n",
       "    }\n",
       "\n",
       "    .dataframe tbody tr th {\n",
       "        vertical-align: top;\n",
       "    }\n",
       "\n",
       "    .dataframe thead th {\n",
       "        text-align: right;\n",
       "    }\n",
       "</style>\n",
       "<table border=\"1\" class=\"dataframe\">\n",
       "  <thead>\n",
       "    <tr style=\"text-align: right;\">\n",
       "      <th></th>\n",
       "      <th>documents</th>\n",
       "      <th>probable_Topic</th>\n",
       "      <th>Topic_Probability</th>\n",
       "    </tr>\n",
       "  </thead>\n",
       "  <tbody>\n",
       "    <tr>\n",
       "      <th>0</th>\n",
       "      <td>Love it! https://t.co/NZh4aQp5Cc</td>\n",
       "      <td>american-service-business</td>\n",
       "      <td>0.0000000000000125</td>\n",
       "    </tr>\n",
       "    <tr>\n",
       "      <th>1</th>\n",
       "      <td>In 2016, there wasn't a single question on cli...</td>\n",
       "      <td>economy-strong-future</td>\n",
       "      <td>0.1029862545346144</td>\n",
       "    </tr>\n",
       "    <tr>\n",
       "      <th>2</th>\n",
       "      <td>Without a doubt, @JoeBiden is the Commander-in...</td>\n",
       "      <td>border-security-veteran</td>\n",
       "      <td>0.0020393908695196</td>\n",
       "    </tr>\n",
       "    <tr>\n",
       "      <th>3</th>\n",
       "      <td>A leader among the next generation of Democrat...</td>\n",
       "      <td>service-veteran-sacrifice</td>\n",
       "      <td>0.1947161252865554</td>\n",
       "    </tr>\n",
       "    <tr>\n",
       "      <th>4</th>\n",
       "      <td>A moving tribute from Mayor @KeishaBottoms for...</td>\n",
       "      <td>vote-impeachment-election</td>\n",
       "      <td>0.5051265256447991</td>\n",
       "    </tr>\n",
       "    <tr>\n",
       "      <th>...</th>\n",
       "      <td>...</td>\n",
       "      <td>...</td>\n",
       "      <td>...</td>\n",
       "    </tr>\n",
       "    <tr>\n",
       "      <th>99397</th>\n",
       "      <td>#GoodNews: companies continue to invest in SW ...</td>\n",
       "      <td>job-vote-economy</td>\n",
       "      <td>0.2856164965997882</td>\n",
       "    </tr>\n",
       "    <tr>\n",
       "      <th>99398</th>\n",
       "      <td>Freedom surrendered is rarely reclaimed. It’s ...</td>\n",
       "      <td>economy-strong-future</td>\n",
       "      <td>0.1563373002257500</td>\n",
       "    </tr>\n",
       "    <tr>\n",
       "      <th>99399</th>\n",
       "      <td>#ConfirmACB Watching the hearing, it seems cle...</td>\n",
       "      <td>american-vote-job</td>\n",
       "      <td>0.0539918829548894</td>\n",
       "    </tr>\n",
       "    <tr>\n",
       "      <th>99400</th>\n",
       "      <td>Abortion kills more than 4x as many people per...</td>\n",
       "      <td>covid19-vote-american</td>\n",
       "      <td>0.1463690391011187</td>\n",
       "    </tr>\n",
       "    <tr>\n",
       "      <th>99401</th>\n",
       "      <td>The appointment of Judge Barrett promises to r...</td>\n",
       "      <td>border-security-veteran</td>\n",
       "      <td>0.0238028496359079</td>\n",
       "    </tr>\n",
       "  </tbody>\n",
       "</table>\n",
       "<p>99402 rows × 3 columns</p>\n",
       "</div>"
      ],
      "text/plain": [
       "                                               documents  \\\n",
       "0                       Love it! https://t.co/NZh4aQp5Cc   \n",
       "1      In 2016, there wasn't a single question on cli...   \n",
       "2      Without a doubt, @JoeBiden is the Commander-in...   \n",
       "3      A leader among the next generation of Democrat...   \n",
       "4      A moving tribute from Mayor @KeishaBottoms for...   \n",
       "...                                                  ...   \n",
       "99397  #GoodNews: companies continue to invest in SW ...   \n",
       "99398  Freedom surrendered is rarely reclaimed. It’s ...   \n",
       "99399  #ConfirmACB Watching the hearing, it seems cle...   \n",
       "99400  Abortion kills more than 4x as many people per...   \n",
       "99401  The appointment of Judge Barrett promises to r...   \n",
       "\n",
       "                  probable_Topic  Topic_Probability  \n",
       "0      american-service-business 0.0000000000000125  \n",
       "1          economy-strong-future 0.1029862545346144  \n",
       "2        border-security-veteran 0.0020393908695196  \n",
       "3      service-veteran-sacrifice 0.1947161252865554  \n",
       "4      vote-impeachment-election 0.5051265256447991  \n",
       "...                          ...                ...  \n",
       "99397           job-vote-economy 0.2856164965997882  \n",
       "99398      economy-strong-future 0.1563373002257500  \n",
       "99399          american-vote-job 0.0539918829548894  \n",
       "99400      covid19-vote-american 0.1463690391011187  \n",
       "99401    border-security-veteran 0.0238028496359079  \n",
       "\n",
       "[99402 rows x 3 columns]"
      ]
     },
     "execution_count": 38,
     "metadata": {},
     "output_type": "execute_result"
    }
   ],
   "source": [
    "democ_topic_model[\"documents\"] = democ_data[\"tweet_text\"].copy()\n",
    "democ_topic_model"
   ]
  },
  {
   "cell_type": "code",
   "execution_count": 39,
   "metadata": {},
   "outputs": [],
   "source": [
    "(democ_topic_model.to_pickle('topic_modelling_LSA_v4.p'))"
   ]
  },
  {
   "cell_type": "code",
   "execution_count": 1,
   "metadata": {},
   "outputs": [
    {
     "ename": "NameError",
     "evalue": "name 'LSA_demo' is not defined",
     "output_type": "error",
     "traceback": [
      "\u001b[1;31m---------------------------------------------------------------------------\u001b[0m",
      "\u001b[1;31mNameError\u001b[0m                                 Traceback (most recent call last)",
      "\u001b[1;32m<ipython-input-1-d613a30ee3fd>\u001b[0m in \u001b[0;36m<module>\u001b[1;34m\u001b[0m\n\u001b[1;32m----> 1\u001b[1;33m \u001b[0mLSA_demo\u001b[0m\u001b[1;33m.\u001b[0m\u001b[0mcomponents_\u001b[0m\u001b[1;33m.\u001b[0m\u001b[0mshape\u001b[0m\u001b[1;33m\u001b[0m\u001b[1;33m\u001b[0m\u001b[0m\n\u001b[0m\u001b[0;32m      2\u001b[0m \u001b[1;31m#terms # Features and index\u001b[0m\u001b[1;33m\u001b[0m\u001b[1;33m\u001b[0m\u001b[1;33m\u001b[0m\u001b[0m\n",
      "\u001b[1;31mNameError\u001b[0m: name 'LSA_demo' is not defined"
     ]
    }
   ],
   "source": [
    "LSA_demo.components_.shape\n",
    "#terms # Features and index"
   ]
  },
  {
   "cell_type": "code",
   "execution_count": null,
   "metadata": {},
   "outputs": [],
   "source": [
    "# Creating the components for the PYLDAvis to consume \n",
    "def load_BYOM_model(filename):\n",
    "    with open(filename, 'r') as j:\n",
    "        data_input = json.load(j)\n",
    "    data = {'topic_term_dists': data_input['phi'], \n",
    "            'doc_topic_dists': data_input['theta'],\n",
    "            'doc_lengths': data_input['doc.length'],\n",
    "            'vocab': data_input['vocab'],\n",
    "            'term_frequency': data_input['term.frequency']}\n",
    "    return data\n",
    "\n",
    "movies_model_data = load_BYOM_model('data/movie_reviews_input.json')"
   ]
  },
  {
   "cell_type": "code",
   "execution_count": null,
   "metadata": {},
   "outputs": [],
   "source": [
    "#  Preparing the data for the PyLDAvis\n",
    "import pyLDAvis\n",
    "movies_vis_data = pyLDAvis.prepare(**movies_model_data)"
   ]
  },
  {
   "cell_type": "code",
   "execution_count": null,
   "metadata": {},
   "outputs": [],
   "source": [
    "# Display the Pyldavis for the data \n",
    "pyLDAvis.display(movies_vis_data)"
   ]
  },
  {
   "cell_type": "code",
   "execution_count": 34,
   "metadata": {},
   "outputs": [],
   "source": [
    "#import pyodbc\n",
    "## Setting the connection strings\n",
    "#server = 'tcp:isye-6420-project.database.windows.net,1433' \n",
    "#database = 'topic_modelling' \n",
    "#username = 'project_administrator' \n",
    "#password = 'isye_6420_admin' \n",
    "#conn = pyodbc.connect('DRIVER={ODBC Driver 17 for SQL Server};SERVER='+server+';DATABASE='+database+';UID='+username+';PWD='+ password)\n",
    "###SQLite cursor\n",
    "#c = conn.cursor()\n",
    "## Creating the topic_modelling_ensemble Table \n",
    "#temp_creator = '''CREATE TABLE topic_modelling_LSA_V2 (documents nvarchar(max), probable_Topic nvarchar(50) , Topic_Probability nvarchar(50));'''\n",
    "#c.execute(temp_creator)\n",
    "#c.commit()"
   ]
  },
  {
   "cell_type": "code",
   "execution_count": 47,
   "metadata": {},
   "outputs": [
    {
     "name": "stderr",
     "output_type": "stream",
     "text": [
      "C:\\Users\\samra\\Anaconda3\\lib\\site-packages\\pyLDAvis\\sklearn.py:26: RuntimeWarning: invalid value encountered in true_divide\n",
      "  return dists / dists.sum(axis=1)[:, None]\n"
     ]
    },
    {
     "ename": "ValidationError",
     "evalue": "\n * Not all rows (distributions) in doc_topic_dists sum to 1.",
     "output_type": "error",
     "traceback": [
      "\u001b[1;31m---------------------------------------------------------------------------\u001b[0m",
      "\u001b[1;31mValidationError\u001b[0m                           Traceback (most recent call last)",
      "\u001b[1;32m<ipython-input-47-db5354bd6cca>\u001b[0m in \u001b[0;36m<module>\u001b[1;34m\u001b[0m\n\u001b[0;32m     10\u001b[0m \u001b[1;33m\u001b[0m\u001b[0m\n\u001b[0;32m     11\u001b[0m \u001b[1;32mif\u001b[0m \u001b[1;32mTrue\u001b[0m\u001b[1;33m:\u001b[0m\u001b[1;33m\u001b[0m\u001b[1;33m\u001b[0m\u001b[0m\n\u001b[1;32m---> 12\u001b[1;33m         \u001b[0mLDAvis_prepared_repub\u001b[0m \u001b[1;33m=\u001b[0m \u001b[0msklearn_lda\u001b[0m\u001b[1;33m.\u001b[0m\u001b[0mprepare\u001b[0m\u001b[1;33m(\u001b[0m\u001b[0mLSA_demo\u001b[0m\u001b[1;33m,\u001b[0m \u001b[0mcount_data_demo\u001b[0m\u001b[1;33m,\u001b[0m \u001b[0mcount_vectorizer_demo\u001b[0m\u001b[1;33m)\u001b[0m\u001b[1;33m\u001b[0m\u001b[1;33m\u001b[0m\u001b[0m\n\u001b[0m\u001b[0;32m     13\u001b[0m \u001b[1;33m\u001b[0m\u001b[0m\n\u001b[0;32m     14\u001b[0m \u001b[1;32mwith\u001b[0m \u001b[0mopen\u001b[0m\u001b[1;33m(\u001b[0m\u001b[0mLDAvis_data_filepath\u001b[0m\u001b[1;33m,\u001b[0m \u001b[1;34m'wb'\u001b[0m\u001b[1;33m)\u001b[0m \u001b[1;32mas\u001b[0m \u001b[0mf\u001b[0m\u001b[1;33m:\u001b[0m\u001b[1;33m\u001b[0m\u001b[1;33m\u001b[0m\u001b[0m\n",
      "\u001b[1;32m~\\Anaconda3\\lib\\site-packages\\pyLDAvis\\sklearn.py\u001b[0m in \u001b[0;36mprepare\u001b[1;34m(lda_model, dtm, vectorizer, **kwargs)\u001b[0m\n\u001b[0;32m     93\u001b[0m     \"\"\"\n\u001b[0;32m     94\u001b[0m     \u001b[0mopts\u001b[0m \u001b[1;33m=\u001b[0m \u001b[0mfp\u001b[0m\u001b[1;33m.\u001b[0m\u001b[0mmerge\u001b[0m\u001b[1;33m(\u001b[0m\u001b[0m_extract_data\u001b[0m\u001b[1;33m(\u001b[0m\u001b[0mlda_model\u001b[0m\u001b[1;33m,\u001b[0m \u001b[0mdtm\u001b[0m\u001b[1;33m,\u001b[0m \u001b[0mvectorizer\u001b[0m\u001b[1;33m)\u001b[0m\u001b[1;33m,\u001b[0m \u001b[0mkwargs\u001b[0m\u001b[1;33m)\u001b[0m\u001b[1;33m\u001b[0m\u001b[1;33m\u001b[0m\u001b[0m\n\u001b[1;32m---> 95\u001b[1;33m     \u001b[1;32mreturn\u001b[0m \u001b[0mpyLDAvis\u001b[0m\u001b[1;33m.\u001b[0m\u001b[0mprepare\u001b[0m\u001b[1;33m(\u001b[0m\u001b[1;33m**\u001b[0m\u001b[0mopts\u001b[0m\u001b[1;33m)\u001b[0m\u001b[1;33m\u001b[0m\u001b[1;33m\u001b[0m\u001b[0m\n\u001b[0m",
      "\u001b[1;32m~\\Anaconda3\\lib\\site-packages\\pyLDAvis\\_prepare.py\u001b[0m in \u001b[0;36mprepare\u001b[1;34m(topic_term_dists, doc_topic_dists, doc_lengths, vocab, term_frequency, R, lambda_step, mds, n_jobs, plot_opts, sort_topics)\u001b[0m\n\u001b[0;32m    372\u001b[0m    \u001b[0mdoc_lengths\u001b[0m      \u001b[1;33m=\u001b[0m \u001b[0m_series_with_name\u001b[0m\u001b[1;33m(\u001b[0m\u001b[0mdoc_lengths\u001b[0m\u001b[1;33m,\u001b[0m \u001b[1;34m'doc_length'\u001b[0m\u001b[1;33m)\u001b[0m\u001b[1;33m\u001b[0m\u001b[1;33m\u001b[0m\u001b[0m\n\u001b[0;32m    373\u001b[0m    \u001b[0mvocab\u001b[0m            \u001b[1;33m=\u001b[0m \u001b[0m_series_with_name\u001b[0m\u001b[1;33m(\u001b[0m\u001b[0mvocab\u001b[0m\u001b[1;33m,\u001b[0m \u001b[1;34m'vocab'\u001b[0m\u001b[1;33m)\u001b[0m\u001b[1;33m\u001b[0m\u001b[1;33m\u001b[0m\u001b[0m\n\u001b[1;32m--> 374\u001b[1;33m    \u001b[0m_input_validate\u001b[0m\u001b[1;33m(\u001b[0m\u001b[0mtopic_term_dists\u001b[0m\u001b[1;33m,\u001b[0m \u001b[0mdoc_topic_dists\u001b[0m\u001b[1;33m,\u001b[0m \u001b[0mdoc_lengths\u001b[0m\u001b[1;33m,\u001b[0m \u001b[0mvocab\u001b[0m\u001b[1;33m,\u001b[0m \u001b[0mterm_frequency\u001b[0m\u001b[1;33m)\u001b[0m\u001b[1;33m\u001b[0m\u001b[1;33m\u001b[0m\u001b[0m\n\u001b[0m\u001b[0;32m    375\u001b[0m    \u001b[0mR\u001b[0m \u001b[1;33m=\u001b[0m \u001b[0mmin\u001b[0m\u001b[1;33m(\u001b[0m\u001b[0mR\u001b[0m\u001b[1;33m,\u001b[0m \u001b[0mlen\u001b[0m\u001b[1;33m(\u001b[0m\u001b[0mvocab\u001b[0m\u001b[1;33m)\u001b[0m\u001b[1;33m)\u001b[0m\u001b[1;33m\u001b[0m\u001b[1;33m\u001b[0m\u001b[0m\n\u001b[0;32m    376\u001b[0m \u001b[1;33m\u001b[0m\u001b[0m\n",
      "\u001b[1;32m~\\Anaconda3\\lib\\site-packages\\pyLDAvis\\_prepare.py\u001b[0m in \u001b[0;36m_input_validate\u001b[1;34m(*args)\u001b[0m\n\u001b[0;32m     63\u001b[0m    \u001b[0mres\u001b[0m \u001b[1;33m=\u001b[0m \u001b[0m_input_check\u001b[0m\u001b[1;33m(\u001b[0m\u001b[1;33m*\u001b[0m\u001b[0margs\u001b[0m\u001b[1;33m)\u001b[0m\u001b[1;33m\u001b[0m\u001b[1;33m\u001b[0m\u001b[0m\n\u001b[0;32m     64\u001b[0m    \u001b[1;32mif\u001b[0m \u001b[0mres\u001b[0m\u001b[1;33m:\u001b[0m\u001b[1;33m\u001b[0m\u001b[1;33m\u001b[0m\u001b[0m\n\u001b[1;32m---> 65\u001b[1;33m       \u001b[1;32mraise\u001b[0m \u001b[0mValidationError\u001b[0m\u001b[1;33m(\u001b[0m\u001b[1;34m'\\n'\u001b[0m \u001b[1;33m+\u001b[0m \u001b[1;34m'\\n'\u001b[0m\u001b[1;33m.\u001b[0m\u001b[0mjoin\u001b[0m\u001b[1;33m(\u001b[0m\u001b[1;33m[\u001b[0m\u001b[1;34m' * '\u001b[0m \u001b[1;33m+\u001b[0m \u001b[0ms\u001b[0m \u001b[1;32mfor\u001b[0m \u001b[0ms\u001b[0m \u001b[1;32min\u001b[0m \u001b[0mres\u001b[0m\u001b[1;33m]\u001b[0m\u001b[1;33m)\u001b[0m\u001b[1;33m)\u001b[0m\u001b[1;33m\u001b[0m\u001b[1;33m\u001b[0m\u001b[0m\n\u001b[0m\u001b[0;32m     66\u001b[0m \u001b[1;33m\u001b[0m\u001b[0m\n\u001b[0;32m     67\u001b[0m \u001b[1;33m\u001b[0m\u001b[0m\n",
      "\u001b[1;31mValidationError\u001b[0m: \n * Not all rows (distributions) in doc_topic_dists sum to 1."
     ]
    }
   ],
   "source": [
    "from pyLDAvis import sklearn as sklearn_lda\n",
    "import pickle \n",
    "import pyLDAvis\n",
    "import os\n",
    "\n",
    "number_topics = 17\n",
    "\n",
    "LDAvis_data_filepath = os.path.join('./ldavis_prepared_repub_'+str(number_topics))\n",
    "\n",
    "\n",
    "if True:\n",
    "        LDAvis_prepared_repub = sklearn_lda.prepare(LSA_demo, count_data_demo, count_vectorizer_demo)\n",
    "        \n",
    "with open(LDAvis_data_filepath, 'wb') as f:\n",
    "        pickle.dump(LDAvis_prepared_repub, f)"
   ]
  },
  {
   "cell_type": "code",
   "execution_count": 35,
   "metadata": {},
   "outputs": [],
   "source": [
    "#import pandas as pd\n",
    "#import time\n",
    "#from urllib.parse import quote_plus\n",
    "#import pyodbc\n",
    "#from sqlalchemy import create_engine, MetaData, Table, select\n",
    "#server = 'tcp:isye-6420-project.database.windows.net,1433' \n",
    "#database = 'topic_modelling' \n",
    "#username = 'project_administrator' \n",
    "#password = 'isye_6420_admin' \n",
    "#conn ='DRIVER={ODBC Driver 17 for SQL Server};SERVER='+server+';DATABASE='+database+';UID='+username+';PWD='+ password +';Encrypt=yes;TrustServerCertificate=no;Connection Timeout=30;'\n",
    "#quoted = quote_plus(conn)\n",
    "#engine=create_engine('mssql+pyodbc:///?odbc_connect={}'.format(quoted))\n",
    "#conn = engine.connect()\n",
    "#TableName = 'topic_modelling_LSA_V4'\n",
    "#metadata = MetaData(conn)\n",
    "#start_time = time.time()\n",
    "\n",
    "#democ_topic_model.to_sql(TableName,conn, method='multi', index=False, if_exists='append', chunksize=100)\n",
    "#print(\"--- %s seconds ---\" % (time.time() - start_time))"
   ]
  },
  {
   "cell_type": "code",
   "execution_count": null,
   "metadata": {},
   "outputs": [],
   "source": []
  }
 ],
 "metadata": {
  "kernelspec": {
   "display_name": "Python 3",
   "language": "python",
   "name": "python3"
  },
  "language_info": {
   "codemirror_mode": {
    "name": "ipython",
    "version": 3
   },
   "file_extension": ".py",
   "mimetype": "text/x-python",
   "name": "python",
   "nbconvert_exporter": "python",
   "pygments_lexer": "ipython3",
   "version": "3.7.4"
  }
 },
 "nbformat": 4,
 "nbformat_minor": 4
}
