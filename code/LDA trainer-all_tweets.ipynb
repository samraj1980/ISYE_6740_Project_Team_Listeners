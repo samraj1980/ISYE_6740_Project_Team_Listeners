{
 "cells": [
  {
   "cell_type": "code",
   "execution_count": 1,
   "metadata": {},
   "outputs": [],
   "source": [
    "import sqlite3\n",
    "from requests.exceptions import Timeout, ConnectionError\n",
    "import time\n",
    "from time import sleep\n",
    "import pandas as pd\n",
    "import pyodbc\n",
    "import spacy\n",
    "import re\n",
    "import numpy as np\n",
    "import nltk \n",
    "from nltk.corpus import stopwords\n",
    "\n",
    "import wordcloud\n",
    "from wordcloud import WordCloud\n",
    "\n",
    "\n",
    "from gensim.test.utils import common_corpus, common_dictionary\n",
    "from gensim.models.coherencemodel import CoherenceModel"
   ]
  },
  {
   "cell_type": "code",
   "execution_count": 2,
   "metadata": {},
   "outputs": [],
   "source": [
    "# Setting the connection strings\n",
    "server = 'tcp:isye-6420-project.database.windows.net,1433' \n",
    "database = 'topic_modelling' \n",
    "username = 'project_administrator' \n",
    "password = 'isye_6420_admin' \n",
    "conn = pyodbc.connect('DRIVER={ODBC Driver 17 for SQL Server};SERVER='+server+';DATABASE='+database+';UID='+username+';PWD='+ password)\n",
    "#SQLite cursor\n",
    "c = conn.cursor()"
   ]
  },
  {
   "cell_type": "code",
   "execution_count": 3,
   "metadata": {},
   "outputs": [],
   "source": [
    "# Method to read the twitter messages into the pandas dataframe\n",
    "def read_sql():\n",
    "    train_data =  pd.read_sql_query('select [tweet_text], [Political_party] from tweets_raw', conn) \n",
    "    return(train_data)"
   ]
  },
  {
   "cell_type": "code",
   "execution_count": 4,
   "metadata": {},
   "outputs": [],
   "source": [
    "# Step 1 : Data Loading \n",
    "    \n",
    "# Executing method to read twitter messages into dataframe\n",
    "train_data = read_sql()\n",
    "    "
   ]
  },
  {
   "cell_type": "code",
   "execution_count": 5,
   "metadata": {
    "scrolled": true
   },
   "outputs": [
    {
     "name": "stdout",
     "output_type": "stream",
     "text": [
      "Index(['tweet_text', 'Political_party'], dtype='object')\n"
     ]
    }
   ],
   "source": [
    "# Step 2: Data Cleaning \n",
    "\n",
    "# print the train_data column names \n",
    "print(train_data.columns)\n",
    "\n",
    "# Load the regular expression library\n",
    "#  Remove URLs\n",
    "train_data['tweet_text'] = train_data['tweet_text'].apply(lambda x: re.split('https:\\/\\/.*', str(x))[0])\n",
    "# Remove punctuation\n",
    "train_data['tweet_text'] = train_data['tweet_text'].map(lambda x: re.sub('[,\\.!?@]', '', x))\n",
    "# Remove punctuation\n",
    "train_data['tweet_text'] = train_data['tweet_text'].map(lambda x: re.sub('[!\"#$%&()*+,-./:;<=>?@[\\]^_`{|}~'']', '', x))\n",
    "# Convert the titles to lowercase\n",
    "train_data['tweet_text'] = train_data['tweet_text'].map(lambda x: x.lower())\n",
    "# Removing the word 'amp' \n",
    "train_data['tweet_text'] = train_data['tweet_text'].map(lambda x: re.sub('amp', '', x))\n",
    "\n",
    "#remove times pm\n",
    "train_data['tweet_text'] = train_data['tweet_text'].map(lambda x: re.sub('\\d+pm', '', x))\n"
   ]
  },
  {
   "cell_type": "code",
   "execution_count": 6,
   "metadata": {},
   "outputs": [],
   "source": [
    "train_data['tweet_text'] = train_data['tweet_text'].map(lambda x: re.sub(\"it's\",'', x))\n",
    "train_data['tweet_text'] = train_data['tweet_text'].map(lambda x: re.sub(\"n't\",'', x))\n",
    "train_data['tweet_text'] = train_data['tweet_text'].map(lambda x: re.sub(\"'\",'', x))\n",
    "train_data['tweet_text'] = train_data['tweet_text'].map(lambda x: re.sub(\"-\",'', x))"
   ]
  },
  {
   "cell_type": "code",
   "execution_count": 7,
   "metadata": {},
   "outputs": [],
   "source": [
    "# 5. Removing Stopwords \n",
    "STOPWORDS = set(stopwords.words('english','spanish'))\n",
    "def remove(text,wordset=STOPWORDS):\n",
    "    splits = text.split()\n",
    "    result=[]\n",
    "    for split in splits:\n",
    "        if split not in wordset:\n",
    "            result.append(split.strip())\n",
    "    return (\" \".join(result))        \n",
    "\n",
    "train_data['tweet_text'] = train_data['tweet_text'].apply(lambda x: remove(x))\n"
   ]
  },
  {
   "cell_type": "code",
   "execution_count": 8,
   "metadata": {},
   "outputs": [],
   "source": [
    "#  6. To retain only the Nouns and Adjectives in every tweet \n",
    "\n",
    "# Initialize spacy 'en' model, keeping only tagger component (for efficiency)\n",
    "nlp = spacy.load(\"en_core_web_sm\", disable=['parser', 'ner'])\n",
    "\n",
    "def lemmatization(texts, allowed_postags=['NOUN', 'ADJ']):\n",
    "    \"\"\"https://spacy.io/api/annotation\"\"\"\n",
    "    doc = nlp(texts) \n",
    "    texts_out = \" \".join([token.lemma_ for token in doc if token.pos_ in allowed_postags])\n",
    "    return texts_out     \n",
    "\n",
    "# Do lemmatization keeping only noun, adj parts of speech (POS)\n",
    "train_data['tweet_text'] = train_data['tweet_text'].apply(lambda x: lemmatization(x, allowed_postags=['NOUN', 'ADJ']))\n"
   ]
  },
  {
   "cell_type": "code",
   "execution_count": 9,
   "metadata": {},
   "outputs": [],
   "source": [
    "# 7. To eliminate additional words \n",
    "\n",
    "eliminate_words = {'today', 'year', 'people', 'time', 'great', 'day', 'morning', 'evening', 'community', 'important',\n",
    "                   'many', 'family', 'sure', 'visit', 'https', 'new', 'work', 'proud', 'thank', 'good', 'way', 'help',\n",
    "                   'need', 'member', 'week', 'nation', 'support', 'last', 'effort', 'yesterday', 'news', 'watch', 'state',\n",
    "                   'safe', 'happy', 'birthday', 'colleague', 'tonight', 'part', 'much', 'now', 'country', 'leader', 'program',\n",
    "                   'congratulation', 'conversation', 'fact', 'government', 'house', 'right', 'tomorrow', 'question', 'long',\n",
    "                   'public', 'big', 'million', 'benefit', 'information', 'report' , 'friend', 'life', 'bad' , 'word', 'true',\n",
    "                   'woman', 'man', 'local', 'action', 'resource', 'high','school', 'opportunity', 'town', 'event', 'meeting',\n",
    "                   'tune', 'pm', 'student', 'live', 'discussion', 'discuss', 'child', 'world', 'policy', 'condition', 'hand',  \n",
    "                   'office', 'place', 'resident', 'site' , 'concern', 'city', 'free', 'congressional', 'WORKER', 'history',\n",
    "                   'wonderful', 'team', 'update', 'facebook', 'minute', 'op', 'water', 'food', 'hour', 'pm', \n",
    "                   'thing', 'art', 'folk', 'annual', 'prayer', 'thought', 'heart', 'statement', 'story', 'special', 'pre',\n",
    "                   'honor', 'young', 'neighbor', 'night', 'district', 'late', 'moment', 'case', 'census', 'person', 'voice', \n",
    "                   'wrong',  'share', 'victory', 'grateful', 'century', 'kid', 'difficult', 'afternoon', 'love', 'youth', \n",
    "                   'fellow', 'mother',  'comment', 'official','p','m','p m', 'crisis'}\n",
    "\n",
    "\n",
    "\n",
    "train_data['tweet_text'] = train_data['tweet_text'].apply(lambda x: remove(x, wordset=eliminate_words ))"
   ]
  },
  {
   "cell_type": "code",
   "execution_count": 10,
   "metadata": {},
   "outputs": [],
   "source": [
    "extra_words = {'today','thank','11','wa','con','por','del','los','que','para','en','el','la','de','sure','know','make','going','your',\n",
    "'about','they','ve','we','re','ing','im','proud','ago','act','tonight','tune','live','morning','listen','join','discuss',\n",
    "'forward','great','will','see','must','tomorrow','day','one','host','hall','god','bless','about','happy','birthday',\n",
    "'birth','fireside','chat','celebrating','christmas','roshhashanah','graduation','high','celebration','yom kippur','time',\n",
    "'year','new','easter','art','competition','guest','hosting','seanhannity','facebook','ill','wolfblitzer','joining',\n",
    "'fridayswithfrank','town','hold','sunday','night','thanks','watching','point','good','nightclub','camdencountynj',\n",
    "'weekly','update','page','yom','kippur','congratulations','congratulation','eaglej','scout','weeks','week','todays',\n",
    "'daily','yesterday','youll','cnnsitrom','shortly','minute','happening','soon','foxnews','900p','ne02','gobierno',\n",
    "'estados','unidos','visite','nuestra','pagina ','federales','estados','agencias','kbtxnews','totally','agree','wtaw1620',\n",
    "'icymi','segment','coming','soon','et','praying','speedy','frequently','asked','question','thought','share','noon','newsletter',\n",
    "'clicking','exactly','right','1000p','1100p','wishing','algal','bloom','app','receive','245th','244th','start','hour',\n",
    "'olg','youve','loudobbs','foxbusiness','free','feel','passionate','west','palm','sign','link','va','inside','ill',\n",
    "'foxandfriend','valley','watch','informacion','espanol','acerca','sus','link','servicios','pagina','ill','foxandfriend',\n",
    "'valley','watch','informacion','espanol','acerca','kwtx','ne03', 'quid','foxnewsnight','pagina','espanol','quid','passover',\n",
    "'simonradio1776','whoradio', '800wvhu','ill3'}\n",
    "\n",
    "train_data['tweet_text'] = train_data['tweet_text'].apply(lambda x: remove(x,extra_words))\n"
   ]
  },
  {
   "cell_type": "code",
   "execution_count": 11,
   "metadata": {},
   "outputs": [],
   "source": [
    "def replace_synonyms(text):\n",
    "    splits = text.split()\n",
    "    result=[]\n",
    "    for split in splits:\n",
    "        if split in synonyms:\n",
    "            result.append(synonyms[split])\n",
    "        else:\n",
    "            result.append(split)\n",
    "    return (\" \".join(result))        \n",
    "\n",
    "#replace synonyms\n",
    "synonyms = {'donald':'trump','realdonaldtrump':'trump','joebiden':'biden'}\n",
    "\n",
    "train_data['tweet_text'] = train_data['tweet_text'].apply(lambda x: replace_synonyms(x))\n"
   ]
  },
  {
   "cell_type": "code",
   "execution_count": 12,
   "metadata": {},
   "outputs": [
    {
     "data": {
      "image/png": "[encoded data removed]",
      "text/plain": [
       "<PIL.Image.Image image mode=RGB size=400x200 at 0x121C2BF28>"
      ]
     },
     "execution_count": 12,
     "metadata": {},
     "output_type": "execute_result"
    }
   ],
   "source": [
    "# Step 3: Exploratory Analysis \n",
    "\n",
    "# Import the wordcloud library\n",
    "\n",
    "\n",
    "# Spliting across party Lines \n",
    "#train_data_dem = train_data.loc[train_data['Political_party'] == \"Democratic Party\"]\n",
    "#train_data_rep = train_data.loc[train_data['Political_party'] == \"Republican Party\"]\n",
    "train_data = train_data.loc[(train_data['Political_party'] == \"Republican Party\") | (train_data['Political_party'] == \"Democratic Party\") ]\n",
    "\n",
    "\n",
    "# Join the different processed tweets together.\n",
    "long_string = ','.join(list(train_data['tweet_text'].values))\n",
    "#long_string_rep = ','.join(list(train_data_rep['tweet_text'].values))\n",
    "\n",
    "# Create a WordCloud object\n",
    "wordcloud = WordCloud(background_color=\"white\", max_words=5000, contour_width=10, contour_color='steelblue')\n",
    "#wordcloud_rep = WordCloud(background_color=\"white\", max_words=5000, contour_width=10, contour_color='steelblue')\n",
    "\n",
    "# Generate a word cloud\n",
    "wordcloud.generate(long_string)\n",
    "# Visualize the Democratic word cloud\n",
    "wordcloud.to_image()\n"
   ]
  },
  {
   "cell_type": "code",
   "execution_count": 13,
   "metadata": {},
   "outputs": [
    {
     "data": {
      "text/plain": [
       "'\\n# Generate a word cloud\\nwordcloud_rep.generate(long_string_rep)\\n# Visualize the word cloud\\nwordcloud_rep.to_image()'"
      ]
     },
     "execution_count": 13,
     "metadata": {},
     "output_type": "execute_result"
    }
   ],
   "source": [
    "'''\n",
    "# Generate a word cloud\n",
    "wordcloud_rep.generate(long_string_rep)\n",
    "# Visualize the word cloud\n",
    "wordcloud_rep.to_image()'''"
   ]
  },
  {
   "cell_type": "code",
   "execution_count": 14,
   "metadata": {},
   "outputs": [],
   "source": [
    "# Step 4: Data Preparation before training Model \n",
    "\n",
    "# Load the library with the CountVectorizer method\n",
    "from sklearn.feature_extraction.text import CountVectorizer\n",
    "import numpy as np\n",
    "import matplotlib.pyplot as plt\n",
    "import seaborn as sns\n",
    "sns.set_style('whitegrid')\n",
    "%matplotlib inline\n",
    "\n",
    "# Helper function\n",
    "def plot_20_most_common_words(count_data, count_vectorizer):\n",
    "    import matplotlib.pyplot as plt\n",
    "    words = count_vectorizer.get_feature_names()\n",
    "    total_counts = np.zeros(len(words))\n",
    "    for t in count_data:\n",
    "        total_counts+=t.toarray()[0]\n",
    "    \n",
    "    count_dict = (zip(words, total_counts))\n",
    "    count_dict = sorted(count_dict, key=lambda x:x[1], reverse=True)[0:20]\n",
    "    words = [w[0] for w in count_dict]\n",
    "    counts = [w[1] for w in count_dict]\n",
    "    x_pos = np.arange(len(words)) \n",
    "    \n",
    "    plt.figure(2, figsize=(15, 15/1.6180))\n",
    "    plt.subplot(title='20 most common words')\n",
    "    sns.set_context(\"notebook\", font_scale=1.25, rc={\"lines.linewidth\": 2.5})\n",
    "    sns.barplot(x_pos, counts, palette='husl')\n",
    "    plt.xticks(x_pos, words, rotation=90) \n",
    "    plt.xlabel('words')\n",
    "    plt.ylabel('counts')\n",
    "    plt.show()\n",
    "\n",
    "\n"
   ]
  },
  {
   "cell_type": "code",
   "execution_count": 15,
   "metadata": {},
   "outputs": [
    {
     "data": {
      "image/png": "[encoded data removed]",
      "text/plain": [
       "<Figure size 1080x667.491 with 1 Axes>"
      ]
     },
     "metadata": {
      "needs_background": "light"
     },
     "output_type": "display_data"
    }
   ],
   "source": [
    "# 20_most_common_words in Democrats tweets\n",
    "from sklearn.feature_extraction.text import HashingVectorizer\n",
    "hv = HashingVectorizer(n_features=10)\n",
    "hv.transform(train_data[\"tweet_text\"])   \n",
    "\n",
    "from sklearn.feature_extraction.text import TfidfVectorizer\n",
    "count_vectorizer= TfidfVectorizer(analyzer='word', token_pattern=r'\\w{1,}', ngram_range=(2,3),use_idf=True, lowercase=True, strip_accents=\"ascii\", stop_words='english', max_features= 1000)\n",
    "# Fit and transform the processed tweets\n",
    "count_data= count_vectorizer.fit_transform(train_data['tweet_text'])\n",
    "# Visualise the 20 most common words\n",
    "plot_20_most_common_words(count_data, count_vectorizer)"
   ]
  },
  {
   "cell_type": "code",
   "execution_count": 16,
   "metadata": {},
   "outputs": [
    {
     "data": {
      "text/plain": [
       "'\\n# 20_most_common_words in Republic tweets\\nfrom sklearn.feature_extraction.text import HashingVectorizer\\nhv = HashingVectorizer(n_features=10)\\nhv.transform(train_data_rep[\"tweet_text\"])   \\n\\nfrom sklearn.feature_extraction.text import TfidfVectorizer\\ncount_vectorizer_rep = TfidfVectorizer(analyzer=\\'word\\', token_pattern=r\\'\\\\w{1,}\\', ngram_range=(2,3),use_idf=True, lowercase=True, strip_accents=\"ascii\", stop_words=\\'english\\', max_features= 1000)\\n# Fit and transform the processed tweets\\ncount_data_rep = count_vectorizer_rep.fit_transform(train_data_rep[\\'tweet_text\\'])\\n# Visualise the 20 most common words\\nplot_20_most_common_words(count_data_rep, count_vectorizer_rep)'"
      ]
     },
     "execution_count": 16,
     "metadata": {},
     "output_type": "execute_result"
    }
   ],
   "source": [
    "'''\n",
    "# 20_most_common_words in Republic tweets\n",
    "from sklearn.feature_extraction.text import HashingVectorizer\n",
    "hv = HashingVectorizer(n_features=10)\n",
    "hv.transform(train_data_rep[\"tweet_text\"])   \n",
    "\n",
    "from sklearn.feature_extraction.text import TfidfVectorizer\n",
    "count_vectorizer_rep = TfidfVectorizer(analyzer='word', token_pattern=r'\\w{1,}', ngram_range=(2,3),use_idf=True, lowercase=True, strip_accents=\"ascii\", stop_words='english', max_features= 1000)\n",
    "# Fit and transform the processed tweets\n",
    "count_data_rep = count_vectorizer_rep.fit_transform(train_data_rep['tweet_text'])\n",
    "# Visualise the 20 most common words\n",
    "plot_20_most_common_words(count_data_rep, count_vectorizer_rep)'''"
   ]
  },
  {
   "cell_type": "code",
   "execution_count": 17,
   "metadata": {
    "scrolled": true
   },
   "outputs": [],
   "source": [
    "from sklearn.feature_extraction.text import TfidfVectorizer\n",
    "count_vectorizer = TfidfVectorizer(analyzer='word', token_pattern=r'\\w{1,}', use_idf=True, lowercase=True, strip_accents=\"ascii\", stop_words='english')\n",
    "#count_vectorizer_repub =TfidfVectorizer(analyzer='word', token_pattern=r'\\w{1,}', use_idf=True, lowercase=True, strip_accents=\"ascii\", stop_words='english')\n",
    "\n",
    "# Calculate DocTerm Matrices\n",
    "count_data = count_vectorizer.fit_transform(train_data['tweet_text'])\n",
    "#count_data_repub = count_vectorizer_repub.fit_transform(train_data_rep['tweet_text'])\n"
   ]
  },
  {
   "cell_type": "code",
   "execution_count": 18,
   "metadata": {},
   "outputs": [],
   "source": [
    "from gensim import corpora\n",
    "#Load the LDA model from sk-learn\n",
    "from sklearn.decomposition import LatentDirichletAllocation as LDA\n",
    "\n",
    "# Create Dictionary\n",
    "text=[[text for text in doc.split()] for doc in train_data['tweet_text']]\n",
    "dictionary= corpora.Dictionary(text)\n",
    "corpus=[dictionary.doc2bow(text) for text in text]\n"
   ]
  },
  {
   "cell_type": "code",
   "execution_count": 19,
   "metadata": {},
   "outputs": [
    {
     "data": {
      "text/plain": [
       "\"\\n#Build manual tokenized topics\\ndef TokenTopics(DocTerm, TopicAffinity,NumTerms=10):\\n    result=[]\\n    for i,topic in enumerate(TopicAffinity):\\n        result.append([DocTerm.get_feature_names()[i] for i in topic.argsort()[-NumTerms:]]) \\n    return result\\n\\ndef CalculateCoherence(corpus1,dictionary1,text1,tt,coherence1='c_v'):\\n    cm=0\\n    if coherence1[0]=='u':\\n        cm = CoherenceModel(topics=tt, corpus=corpus1, dictionary=dictionary1, coherence=coherence1,processes=-1)    \\n    else: \\n        cm = CoherenceModel(topics=tt, texts=text1, dictionary=dictionary1, coherence=coherence1,processes=-1)\\n    return cm.get_coherence()\\n\\n\\n\""
      ]
     },
     "execution_count": 19,
     "metadata": {},
     "output_type": "execute_result"
    }
   ],
   "source": [
    "'''\n",
    "#Build manual tokenized topics\n",
    "def TokenTopics(DocTerm, TopicAffinity,NumTerms=10):\n",
    "    result=[]\n",
    "    for i,topic in enumerate(TopicAffinity):\n",
    "        result.append([DocTerm.get_feature_names()[i] for i in topic.argsort()[-NumTerms:]]) \n",
    "    return result\n",
    "\n",
    "def CalculateCoherence(corpus1,dictionary1,text1,tt,coherence1='c_v'):\n",
    "    cm=0\n",
    "    if coherence1[0]=='u':\n",
    "        cm = CoherenceModel(topics=tt, corpus=corpus1, dictionary=dictionary1, coherence=coherence1,processes=-1)    \n",
    "    else: \n",
    "        cm = CoherenceModel(topics=tt, texts=text1, dictionary=dictionary1, coherence=coherence1,processes=-1)\n",
    "    return cm.get_coherence()\n",
    "\n",
    "\n",
    "'''"
   ]
  },
  {
   "cell_type": "code",
   "execution_count": 20,
   "metadata": {},
   "outputs": [
    {
     "data": {
      "text/plain": [
       "\"\\n#Try different topic sizes, parameters\\ncoherence_dems = dict()\\n\\nfor a in range(5,25):\\n    \\n    print(a)\\n    \\n    nmf_demo = NMF(n_components=a, random_state=42, max_iter=1000, solver='cd',alpha=.1, l1_ratio=.5)\\n    nmf_demo.fit(count_data_demo)\\n    tt = TokenTopics(count_vectorizer_demo,nmf_demo.components_)\\n    \\n    label='p'+str(a)\\n    coherence_dems[label]=CalculateCoherence(corpus_dems,dictionary_dems,text_dems,tt,'c_v')\\n\""
      ]
     },
     "execution_count": 20,
     "metadata": {},
     "output_type": "execute_result"
    }
   ],
   "source": [
    "'''\n",
    "#Try different topic sizes, parameters\n",
    "coherence_dems = dict()\n",
    "\n",
    "for a in range(5,25):\n",
    "    \n",
    "    print(a)\n",
    "    \n",
    "    nmf_demo = NMF(n_components=a, random_state=42, max_iter=1000, solver='cd',alpha=.1, l1_ratio=.5)\n",
    "    nmf_demo.fit(count_data_demo)\n",
    "    tt = TokenTopics(count_vectorizer_demo,nmf_demo.components_)\n",
    "    \n",
    "    label='p'+str(a)\n",
    "    coherence_dems[label]=CalculateCoherence(corpus_dems,dictionary_dems,text_dems,tt,'c_v')\n",
    "'''    \n",
    "    "
   ]
  },
  {
   "cell_type": "code",
   "execution_count": 21,
   "metadata": {},
   "outputs": [],
   "source": [
    "#coherence_score = list(coherence_dems.values())\n",
    "#coherence_score"
   ]
  },
  {
   "cell_type": "code",
   "execution_count": 22,
   "metadata": {},
   "outputs": [
    {
     "data": {
      "text/plain": [
       "'\\n# Show graph\\nx = range(5,25)\\nplt.plot(x, coherence_score)\\nplt.xlabel(\"Number of Topics\")\\nplt.ylabel(\"Coherence score\")\\nplt.legend((\"coherence_values\"), loc=\\'best\\')\\nplt.show()\\n'"
      ]
     },
     "execution_count": 22,
     "metadata": {},
     "output_type": "execute_result"
    }
   ],
   "source": [
    "'''\n",
    "# Show graph\n",
    "x = range(5,25)\n",
    "plt.plot(x, coherence_score)\n",
    "plt.xlabel(\"Number of Topics\")\n",
    "plt.ylabel(\"Coherence score\")\n",
    "plt.legend((\"coherence_values\"), loc='best')\n",
    "plt.show()\n",
    "'''"
   ]
  },
  {
   "cell_type": "code",
   "execution_count": 25,
   "metadata": {},
   "outputs": [],
   "source": [
    "lda= LDA(n_components=16, n_jobs=-1, doc_topic_prior=0.01, topic_word_prior=0.01, learning_method='batch', learning_decay=0.5, learning_offset=10.0, max_iter=25, batch_size=128, evaluate_every=-1, total_samples=1000000.0, perp_tol=0.1, mean_change_tol=0.001, max_doc_update_iter=100, verbose=0)\n",
    "lda_result=lda.fit_transform(count_data)"
   ]
  },
  {
   "cell_type": "code",
   "execution_count": 26,
   "metadata": {},
   "outputs": [
    {
     "name": "stdout",
     "output_type": "stream",
     "text": [
      "Topic 0: \n",
      "['election', 'vote', 'trump', 'democracy', 'mail', 'ballot', 'voter', 'voting', 'foreign', 'power']\n",
      "Topic 1: \n",
      "['service', 'sacrifice', 'veteran', 'freedom', 'brave', 'equality', 'hero', 'anniversary', 'civil', 'responder']\n",
      "Topic 2: \n",
      "['border', 'immigration', 'immigrant', 'crisis', 'security', 'wall', 'southern', 'complete', 'illegal', 'trump']\n",
      "Topic 3: \n",
      "['impeachment', 'police', 'law', 'american', 'president', 'justice', 'officer', 'trump', 'investigation', 'enforcement']\n",
      "Topic 4: \n",
      "['foxnew', 'jewish', 'black', 'budget', 'floor', 'abortion', 'military', 'baby', 'faith', 'brother']\n",
      "Topic 5: \n",
      "['violence', 'gun', 'testing', 'website', 'check', 'legislation', 'covid19', 'interested', 'academy', 'background']\n",
      "Topic 6: \n",
      "['mask', 'covid19', 'social', 'virus', 'spread', 'home', 'distancing', 'health', 'healthy', 'disease']\n",
      "Topic 7: \n",
      "['job', 'economy', 'unemployment', 'teacher', 'rate', 'strong', 'education', 'month', 'american', 'growth']\n",
      "Topic 8: \n",
      "['worker', 'wage', 'pleasure', 'pay', 'minimum', 'workplace', 'peace', 'blood', 'career', 'retirement']\n",
      "Topic 9: \n",
      "['care', 'health', 'drug', 'affordable', 'access', 'medical', 'cost', 'price', 'patient', 'prescription']\n",
      "Topic 10: \n",
      "['recovery', 'mental', 'health', 'issue', 'answer', 'service', 'trip', 'substance', 'trouble', 'preparedness']\n",
      "Topic 11: \n",
      "['open', 'enrollment', 'second', 'father', 'artist', 'photo', 'chance', 'period', 'perfect', 'weekend']\n",
      "Topic 12: \n",
      "['climate', 'change', 'virtual', 'leadership', 'staff', 'agency', 'federal', 'park', 'land', 'beautiful']\n",
      "Topic 13: \n",
      "['war', 'troop', 'native', 'terrorist', 'toxic', 'american', 'trump', 'attack', 'prolife', 'military']\n",
      "Topic 14: \n",
      "['business', 'small', 'relief', 'assistance', 'covid19', 'worker', 'federal', 'payment', 'funding', 'pandemic']\n",
      "Topic 15: \n",
      "['energy', 'infrastructure', 'trade', 'farmer', 'deal', 'job', 'economy', 'industry', 'clean', 'usmca']\n"
     ]
    }
   ],
   "source": [
    "terms = count_vectorizer.get_feature_names()\n",
    "topic= dict()\n",
    "\n",
    "for i, comp in enumerate(lda.components_):\n",
    "    print_topic = [] \n",
    "    terms_comp = zip(terms, comp)\n",
    "    sorted_terms = sorted(terms_comp, key= lambda x:x[1], reverse=True)[:10]\n",
    "    label = \"topic_\" + str(i)\n",
    "    print(\"Topic \"+str(i)+\": \")\n",
    "    for t in sorted_terms:\n",
    "        print_topic.append(t[0])\n",
    "    print(print_topic)\n",
    "    topic[label] = print_topic[0] + '-' + print_topic[1] + '-' + print_topic[2]\n",
    "    "
   ]
  },
  {
   "cell_type": "code",
   "execution_count": null,
   "metadata": {},
   "outputs": [],
   "source": [
    "topic"
   ]
  },
  {
   "cell_type": "code",
   "execution_count": null,
   "metadata": {},
   "outputs": [],
   "source": []
  },
  {
   "cell_type": "code",
   "execution_count": 31,
   "metadata": {},
   "outputs": [
    {
     "data": {
      "text/html": [
       "<div>\n",
       "<style scoped>\n",
       "    .dataframe tbody tr th:only-of-type {\n",
       "        vertical-align: middle;\n",
       "    }\n",
       "\n",
       "    .dataframe tbody tr th {\n",
       "        vertical-align: top;\n",
       "    }\n",
       "\n",
       "    .dataframe thead th {\n",
       "        text-align: right;\n",
       "    }\n",
       "</style>\n",
       "<table border=\"1\" class=\"dataframe\">\n",
       "  <thead>\n",
       "    <tr style=\"text-align: right;\">\n",
       "      <th></th>\n",
       "      <th>documents</th>\n",
       "      <th>probable_Topic</th>\n",
       "      <th>Topic_Probability</th>\n",
       "    </tr>\n",
       "  </thead>\n",
       "  <tbody>\n",
       "    <tr>\n",
       "      <th>0</th>\n",
       "      <td></td>\n",
       "      <td>election-vote-trump</td>\n",
       "      <td>0.0625000000000000</td>\n",
       "    </tr>\n",
       "    <tr>\n",
       "      <th>1</th>\n",
       "      <td>single climate presidential debate letter deba...</td>\n",
       "      <td>election-vote-trump</td>\n",
       "      <td>0.4945004466629486</td>\n",
       "    </tr>\n",
       "    <tr>\n",
       "      <th>2</th>\n",
       "      <td>doubt demconvention</td>\n",
       "      <td>worker-wage-pleasure</td>\n",
       "      <td>0.5024616531699587</td>\n",
       "    </tr>\n",
       "    <tr>\n",
       "      <th>3</th>\n",
       "      <td>next generation democrat service future first ...</td>\n",
       "      <td>worker-wage-pleasure</td>\n",
       "      <td>0.9444401143976985</td>\n",
       "    </tr>\n",
       "    <tr>\n",
       "      <th>4</th>\n",
       "      <td>dear legacy vote vote vote plan vote</td>\n",
       "      <td>election-vote-trump</td>\n",
       "      <td>0.5747067140808761</td>\n",
       "    </tr>\n",
       "    <tr>\n",
       "      <th>...</th>\n",
       "      <td>...</td>\n",
       "      <td>...</td>\n",
       "      <td>...</td>\n",
       "    </tr>\n",
       "    <tr>\n",
       "      <th>101794</th>\n",
       "      <td>goodnew company manufacturing job</td>\n",
       "      <td>energy-infrastructure-trade</td>\n",
       "      <td>0.9271041273312590</td>\n",
       "    </tr>\n",
       "    <tr>\n",
       "      <th>101795</th>\n",
       "      <td>freedom restore economy american dream calm de...</td>\n",
       "      <td>service-sacrifice-veteran</td>\n",
       "      <td>0.4504405214573570</td>\n",
       "    </tr>\n",
       "    <tr>\n",
       "      <th>101796</th>\n",
       "      <td>hearing clear defend republican justice scotus...</td>\n",
       "      <td>impeachment-police-law</td>\n",
       "      <td>0.9424360714714014</td>\n",
       "    </tr>\n",
       "    <tr>\n",
       "      <th>101797</th>\n",
       "      <td>abortion covid19 prevent abortion reaction cov...</td>\n",
       "      <td>recovery-mental-health</td>\n",
       "      <td>0.5891087795509158</td>\n",
       "    </tr>\n",
       "    <tr>\n",
       "      <th>101798</th>\n",
       "      <td>appointment problem</td>\n",
       "      <td>violence-gun-testing</td>\n",
       "      <td>0.9044541782457975</td>\n",
       "    </tr>\n",
       "  </tbody>\n",
       "</table>\n",
       "<p>101799 rows × 3 columns</p>\n",
       "</div>"
      ],
      "text/plain": [
       "                                                documents  \\\n",
       "0                                                           \n",
       "1       single climate presidential debate letter deba...   \n",
       "2                                     doubt demconvention   \n",
       "3       next generation democrat service future first ...   \n",
       "4                    dear legacy vote vote vote plan vote   \n",
       "...                                                   ...   \n",
       "101794                  goodnew company manufacturing job   \n",
       "101795  freedom restore economy american dream calm de...   \n",
       "101796  hearing clear defend republican justice scotus...   \n",
       "101797  abortion covid19 prevent abortion reaction cov...   \n",
       "101798                                appointment problem   \n",
       "\n",
       "                     probable_Topic  Topic_Probability  \n",
       "0               election-vote-trump 0.0625000000000000  \n",
       "1               election-vote-trump 0.4945004466629486  \n",
       "2              worker-wage-pleasure 0.5024616531699587  \n",
       "3              worker-wage-pleasure 0.9444401143976985  \n",
       "4               election-vote-trump 0.5747067140808761  \n",
       "...                             ...                ...  \n",
       "101794  energy-infrastructure-trade 0.9271041273312590  \n",
       "101795    service-sacrifice-veteran 0.4504405214573570  \n",
       "101796       impeachment-police-law 0.9424360714714014  \n",
       "101797       recovery-mental-health 0.5891087795509158  \n",
       "101798         violence-gun-testing 0.9044541782457975  \n",
       "\n",
       "[101799 rows x 3 columns]"
      ]
     },
     "metadata": {},
     "output_type": "display_data"
    }
   ],
   "source": [
    "pd.options.display.float_format = '{:,.16f}'.format\n",
    "topic_encoded_df = pd.DataFrame(lda_result, columns = [\"topic_0\", \"topic_1\", \"topic_2\", \"topic_3\",\"topic_4\",\"topic_5\", \"topic_6\", \"topic_7\", \"topic_8\", \"topic_9\", \"topic_10\", \"topic_11\",\"topic_12\",\"topic_13\",\"topic_14\",\"topic_15\"])\n",
    "topic_encoded_df[\"probable_Topic\"] = topic_encoded_df.idxmax(axis=1)\n",
    "topic_encoded_df[\"Topic_Probability\"] = topic_encoded_df.max(axis=1)\n",
    "topic_encoded_df[\"documents\"] = train_data['tweet_text'].values\n",
    "topic_encoded_df[\"probable_Topic\"].replace(topic, inplace=True)\n",
    "display(topic_encoded_df[[\"documents\", \"probable_Topic\", \"Topic_Probability\"]])"
   ]
  },
  {
   "cell_type": "code",
   "execution_count": 32,
   "metadata": {},
   "outputs": [],
   "source": [
    "topic_model = topic_encoded_df[[\"documents\", \"probable_Topic\", \"Topic_Probability\"]]"
   ]
  },
  {
   "cell_type": "code",
   "execution_count": 33,
   "metadata": {},
   "outputs": [
    {
     "data": {
      "text/plain": [
       "\"\\n#count_data_repub\\n\\n# Create Dictionary\\ntext_repub=[[text for text in doc.split()] for doc in train_data_rep['tweet_text']]\\ndictionary_repub = corpora.Dictionary(text_repub)\\ncorpus_repub=corpus = [dictionary_repub.doc2bow(text) for text in text_repub]\\n\""
      ]
     },
     "execution_count": 33,
     "metadata": {},
     "output_type": "execute_result"
    }
   ],
   "source": [
    "'''\n",
    "#count_data_repub\n",
    "\n",
    "# Create Dictionary\n",
    "text_repub=[[text for text in doc.split()] for doc in train_data_rep['tweet_text']]\n",
    "dictionary_repub = corpora.Dictionary(text_repub)\n",
    "corpus_repub=corpus = [dictionary_repub.doc2bow(text) for text in text_repub]\n",
    "'''"
   ]
  },
  {
   "cell_type": "code",
   "execution_count": 34,
   "metadata": {},
   "outputs": [
    {
     "data": {
      "text/plain": [
       "\"\\n#Try different topic sizes, parameters\\ncoherence_repub = dict()\\n\\nfor a in range(5,25):\\n    \\n    print(a)\\n    \\n    nmf_repub = NMF(n_components=a, random_state=42, max_iter=1000, solver='cd',alpha=.1, l1_ratio=.5)\\n    nmf_repub.fit(count_data_repub)\\n    tt = TokenTopics(count_vectorizer_repub,nmf_repub.components_)\\n    \\n    label='p'+str(a)\\n    coherence_repub[label]=CalculateCoherence(corpus_repub,dictionary_repub,text_repub,tt,'c_v')\\n    \\n\""
      ]
     },
     "execution_count": 34,
     "metadata": {},
     "output_type": "execute_result"
    }
   ],
   "source": [
    "'''\n",
    "#Try different topic sizes, parameters\n",
    "coherence_repub = dict()\n",
    "\n",
    "for a in range(5,25):\n",
    "    \n",
    "    print(a)\n",
    "    \n",
    "    nmf_repub = NMF(n_components=a, random_state=42, max_iter=1000, solver='cd',alpha=.1, l1_ratio=.5)\n",
    "    nmf_repub.fit(count_data_repub)\n",
    "    tt = TokenTopics(count_vectorizer_repub,nmf_repub.components_)\n",
    "    \n",
    "    label='p'+str(a)\n",
    "    coherence_repub[label]=CalculateCoherence(corpus_repub,dictionary_repub,text_repub,tt,'c_v')\n",
    "    \n",
    "''' "
   ]
  },
  {
   "cell_type": "code",
   "execution_count": 35,
   "metadata": {},
   "outputs": [
    {
     "data": {
      "text/plain": [
       "'\\ncoherence_score = list(coherence_repub.values())\\ncoherence_score\\n'"
      ]
     },
     "execution_count": 35,
     "metadata": {},
     "output_type": "execute_result"
    }
   ],
   "source": [
    "'''\n",
    "coherence_score = list(coherence_repub.values())\n",
    "coherence_score\n",
    "'''"
   ]
  },
  {
   "cell_type": "code",
   "execution_count": 36,
   "metadata": {},
   "outputs": [
    {
     "data": {
      "text/plain": [
       "'\\n# Show graph\\nx = range(5,25)\\nplt.plot(x, coherence_score)\\nplt.xlabel(\"Number of Topics\")\\nplt.ylabel(\"Coherence score\")\\nplt.legend((\"coherence_values\"), loc=\\'best\\')\\nplt.show()\\n'"
      ]
     },
     "execution_count": 36,
     "metadata": {},
     "output_type": "execute_result"
    }
   ],
   "source": [
    "'''\n",
    "# Show graph\n",
    "x = range(5,25)\n",
    "plt.plot(x, coherence_score)\n",
    "plt.xlabel(\"Number of Topics\")\n",
    "plt.ylabel(\"Coherence score\")\n",
    "plt.legend((\"coherence_values\"), loc='best')\n",
    "plt.show()\n",
    "'''"
   ]
  },
  {
   "cell_type": "code",
   "execution_count": 37,
   "metadata": {},
   "outputs": [],
   "source": [
    "#Train final model\n",
    "#lda_repub = LDA(n_components=12, n_jobs=-1, doc_topic_prior=0.01, topic_word_prior=0.01, learning_method='batch', learning_decay=0.5, learning_offset=10.0, max_iter=25, batch_size=128, evaluate_every=-1, total_samples=1000000.0, perp_tol=0.1, mean_change_tol=0.001, max_doc_update_iter=100, verbose=0)\n",
    "#lda_rep=lda_repub.fit_transform(count_data_repub)  "
   ]
  },
  {
   "cell_type": "code",
   "execution_count": 38,
   "metadata": {},
   "outputs": [
    {
     "data": {
      "text/plain": [
       "'\\nterms = count_vectorizer_repub.get_feature_names()\\ntopic_reps = dict()\\n\\nfor i, comp in enumerate(lda_repub.components_):\\n    print_topic = [] \\n    terms_comp = zip(terms, comp)\\n    sorted_terms = sorted(terms_comp, key= lambda x:x[1], reverse=True)[:10]\\n    label = \"topic_\" + str(i)\\n    print(\"Topic \"+str(i)+\": \")\\n    for t in sorted_terms:\\n        print_topic.append(t[0])\\n    print(print_topic)\\n    topic_reps[label] = print_topic[0] + \\'-\\' + print_topic[1] + \\'-\\' + print_topic[2]    \\n'"
      ]
     },
     "execution_count": 38,
     "metadata": {},
     "output_type": "execute_result"
    }
   ],
   "source": [
    "'''\n",
    "terms = count_vectorizer_repub.get_feature_names()\n",
    "topic_reps = dict()\n",
    "\n",
    "for i, comp in enumerate(lda_repub.components_):\n",
    "    print_topic = [] \n",
    "    terms_comp = zip(terms, comp)\n",
    "    sorted_terms = sorted(terms_comp, key= lambda x:x[1], reverse=True)[:10]\n",
    "    label = \"topic_\" + str(i)\n",
    "    print(\"Topic \"+str(i)+\": \")\n",
    "    for t in sorted_terms:\n",
    "        print_topic.append(t[0])\n",
    "    print(print_topic)\n",
    "    topic_reps[label] = print_topic[0] + '-' + print_topic[1] + '-' + print_topic[2]    \n",
    "'''"
   ]
  },
  {
   "cell_type": "code",
   "execution_count": 39,
   "metadata": {},
   "outputs": [],
   "source": [
    "#topic_reps"
   ]
  },
  {
   "cell_type": "code",
   "execution_count": 40,
   "metadata": {
    "scrolled": true
   },
   "outputs": [
    {
     "data": {
      "text/plain": [
       "'\\npd.options.display.float_format = \\'{:,.16f}\\'.format\\ntopic_encoded_df = pd.DataFrame(lda_rep, columns = [\"topic_0\", \"topic_1\", \"topic_2\", \"topic_3\",\"topic_4\",\"topic_5\", \"topic_6\", \"topic_7\",\"topic_8\",\"topic_9\",\"topic_10\",\"topic_11\"])\\ntopic_encoded_df[\"probable_Topic\"] = topic_encoded_df.idxmax(axis=1)\\ntopic_encoded_df[\"Topic_Probability\"] = topic_encoded_df.max(axis=1)\\ntopic_encoded_df[\"documents\"] = train_data.loc[train_data[\\'Political_party\\'] == \"Republican Party\"][\\'tweet_text\\'].values\\ntopic_encoded_df[\"probable_Topic\"].replace(topic_reps, inplace=True)\\ndisplay(topic_encoded_df[[\"documents\", \"probable_Topic\", \"Topic_Probability\"]])\\n'"
      ]
     },
     "execution_count": 40,
     "metadata": {},
     "output_type": "execute_result"
    }
   ],
   "source": [
    "'''\n",
    "pd.options.display.float_format = '{:,.16f}'.format\n",
    "topic_encoded_df = pd.DataFrame(lda_rep, columns = [\"topic_0\", \"topic_1\", \"topic_2\", \"topic_3\",\"topic_4\",\"topic_5\", \"topic_6\", \"topic_7\",\"topic_8\",\"topic_9\",\"topic_10\",\"topic_11\"])\n",
    "topic_encoded_df[\"probable_Topic\"] = topic_encoded_df.idxmax(axis=1)\n",
    "topic_encoded_df[\"Topic_Probability\"] = topic_encoded_df.max(axis=1)\n",
    "topic_encoded_df[\"documents\"] = train_data.loc[train_data['Political_party'] == \"Republican Party\"]['tweet_text'].values\n",
    "topic_encoded_df[\"probable_Topic\"].replace(topic_reps, inplace=True)\n",
    "display(topic_encoded_df[[\"documents\", \"probable_Topic\", \"Topic_Probability\"]])\n",
    "'''\n"
   ]
  },
  {
   "cell_type": "code",
   "execution_count": 41,
   "metadata": {},
   "outputs": [
    {
     "data": {
      "text/plain": [
       "'\\nrepub_topic_model = topic_encoded_df[[\"documents\", \"probable_Topic\", \"Topic_Probability\"]]\\nprint(repub_topic_model)\\n'"
      ]
     },
     "execution_count": 41,
     "metadata": {},
     "output_type": "execute_result"
    }
   ],
   "source": [
    "'''\n",
    "repub_topic_model = topic_encoded_df[[\"documents\", \"probable_Topic\", \"Topic_Probability\"]]\n",
    "print(repub_topic_model)\n",
    "'''"
   ]
  },
  {
   "cell_type": "code",
   "execution_count": 42,
   "metadata": {},
   "outputs": [],
   "source": [
    "train_data= pd.read_csv('tweets_raw.csv')\n",
    "train_data = train_data.loc[(democ_data['Political_party'] == \"Republican Party\") | (train_data['Political_party'] == \"Democratic Party\") ]\n"
   ]
  },
  {
   "cell_type": "code",
   "execution_count": 43,
   "metadata": {},
   "outputs": [],
   "source": [
    "#democ_data = train_data.loc[train_data['Political_party'] == \"Democratic Party\"]\n",
    "#print(democ_data)"
   ]
  },
  {
   "cell_type": "code",
   "execution_count": 44,
   "metadata": {
    "scrolled": true
   },
   "outputs": [],
   "source": [
    "\n",
    "#democ_data =  pd.read_sql_query(\"select [tweet_text] from tweets_raw where [Political_party] = 'Democratic Party' \", conn) "
   ]
  },
  {
   "cell_type": "code",
   "execution_count": 45,
   "metadata": {},
   "outputs": [
    {
     "name": "stderr",
     "output_type": "stream",
     "text": [
      "/Library/Python/3.7/site-packages/ipykernel_launcher.py:1: SettingWithCopyWarning: \n",
      "A value is trying to be set on a copy of a slice from a DataFrame.\n",
      "Try using .loc[row_indexer,col_indexer] = value instead\n",
      "\n",
      "See the caveats in the documentation: https://pandas.pydata.org/pandas-docs/stable/user_guide/indexing.html#returning-a-view-versus-a-copy\n",
      "  \"\"\"Entry point for launching an IPython kernel.\n"
     ]
    },
    {
     "data": {
      "text/html": [
       "<div>\n",
       "<style scoped>\n",
       "    .dataframe tbody tr th:only-of-type {\n",
       "        vertical-align: middle;\n",
       "    }\n",
       "\n",
       "    .dataframe tbody tr th {\n",
       "        vertical-align: top;\n",
       "    }\n",
       "\n",
       "    .dataframe thead th {\n",
       "        text-align: right;\n",
       "    }\n",
       "</style>\n",
       "<table border=\"1\" class=\"dataframe\">\n",
       "  <thead>\n",
       "    <tr style=\"text-align: right;\">\n",
       "      <th></th>\n",
       "      <th>documents</th>\n",
       "      <th>probable_Topic</th>\n",
       "      <th>Topic_Probability</th>\n",
       "    </tr>\n",
       "  </thead>\n",
       "  <tbody>\n",
       "    <tr>\n",
       "      <th>0</th>\n",
       "      <td>Love it! https://t.co/NZh4aQp5Cc</td>\n",
       "      <td>election-vote-trump</td>\n",
       "      <td>0.0625000000000000</td>\n",
       "    </tr>\n",
       "    <tr>\n",
       "      <th>1</th>\n",
       "      <td>In 2016, there wasn't a single question on cli...</td>\n",
       "      <td>election-vote-trump</td>\n",
       "      <td>0.4945004466629486</td>\n",
       "    </tr>\n",
       "    <tr>\n",
       "      <th>2</th>\n",
       "      <td>Without a doubt, @JoeBiden is the Commander-in...</td>\n",
       "      <td>worker-wage-pleasure</td>\n",
       "      <td>0.5024616531699587</td>\n",
       "    </tr>\n",
       "    <tr>\n",
       "      <th>3</th>\n",
       "      <td>A leader among the next generation of Democrat...</td>\n",
       "      <td>worker-wage-pleasure</td>\n",
       "      <td>0.9444401143976985</td>\n",
       "    </tr>\n",
       "    <tr>\n",
       "      <th>4</th>\n",
       "      <td>A moving tribute from Mayor @KeishaBottoms for...</td>\n",
       "      <td>election-vote-trump</td>\n",
       "      <td>0.5747067140808761</td>\n",
       "    </tr>\n",
       "    <tr>\n",
       "      <th>...</th>\n",
       "      <td>...</td>\n",
       "      <td>...</td>\n",
       "      <td>...</td>\n",
       "    </tr>\n",
       "    <tr>\n",
       "      <th>101794</th>\n",
       "      <td>Joined @KellyCNBC to discuss why we have to ge...</td>\n",
       "      <td>energy-infrastructure-trade</td>\n",
       "      <td>0.9271041273312590</td>\n",
       "    </tr>\n",
       "    <tr>\n",
       "      <th>101795</th>\n",
       "      <td>#TeamReed was glad to stand with the Villages ...</td>\n",
       "      <td>service-sacrifice-veteran</td>\n",
       "      <td>0.4504405214573570</td>\n",
       "    </tr>\n",
       "    <tr>\n",
       "      <th>101796</th>\n",
       "      <td>Great to join @TeamCavuto with @RepJoshG earli...</td>\n",
       "      <td>impeachment-police-law</td>\n",
       "      <td>0.9424360714714014</td>\n",
       "    </tr>\n",
       "    <tr>\n",
       "      <th>101797</th>\n",
       "      <td>Thank you to Tango Oaks in Hector for letting ...</td>\n",
       "      <td>recovery-mental-health</td>\n",
       "      <td>0.5891087795509158</td>\n",
       "    </tr>\n",
       "    <tr>\n",
       "      <th>101798</th>\n",
       "      <td>#TeamReed was thrilled to be a part of the rib...</td>\n",
       "      <td>violence-gun-testing</td>\n",
       "      <td>0.9044541782457975</td>\n",
       "    </tr>\n",
       "  </tbody>\n",
       "</table>\n",
       "<p>101799 rows × 3 columns</p>\n",
       "</div>"
      ],
      "text/plain": [
       "                                                documents  \\\n",
       "0                        Love it! https://t.co/NZh4aQp5Cc   \n",
       "1       In 2016, there wasn't a single question on cli...   \n",
       "2       Without a doubt, @JoeBiden is the Commander-in...   \n",
       "3       A leader among the next generation of Democrat...   \n",
       "4       A moving tribute from Mayor @KeishaBottoms for...   \n",
       "...                                                   ...   \n",
       "101794  Joined @KellyCNBC to discuss why we have to ge...   \n",
       "101795  #TeamReed was glad to stand with the Villages ...   \n",
       "101796  Great to join @TeamCavuto with @RepJoshG earli...   \n",
       "101797  Thank you to Tango Oaks in Hector for letting ...   \n",
       "101798  #TeamReed was thrilled to be a part of the rib...   \n",
       "\n",
       "                     probable_Topic  Topic_Probability  \n",
       "0               election-vote-trump 0.0625000000000000  \n",
       "1               election-vote-trump 0.4945004466629486  \n",
       "2              worker-wage-pleasure 0.5024616531699587  \n",
       "3              worker-wage-pleasure 0.9444401143976985  \n",
       "4               election-vote-trump 0.5747067140808761  \n",
       "...                             ...                ...  \n",
       "101794  energy-infrastructure-trade 0.9271041273312590  \n",
       "101795    service-sacrifice-veteran 0.4504405214573570  \n",
       "101796       impeachment-police-law 0.9424360714714014  \n",
       "101797       recovery-mental-health 0.5891087795509158  \n",
       "101798         violence-gun-testing 0.9044541782457975  \n",
       "\n",
       "[101799 rows x 3 columns]"
      ]
     },
     "execution_count": 45,
     "metadata": {},
     "output_type": "execute_result"
    }
   ],
   "source": [
    "topic_model[\"documents\"] = train_data[\"tweet_text\"]\n",
    "topic_model"
   ]
  },
  {
   "cell_type": "code",
   "execution_count": 46,
   "metadata": {},
   "outputs": [
    {
     "data": {
      "text/plain": [
       "'\\nrepub_data=train_data.loc[train_data[\\'Political_party\\'] == \"Republican Party\"]\\np=repub_data.reset_index()\\nprint(p)\\n'"
      ]
     },
     "execution_count": 46,
     "metadata": {},
     "output_type": "execute_result"
    }
   ],
   "source": [
    "'''\n",
    "repub_data=train_data.loc[train_data['Political_party'] == \"Republican Party\"]\n",
    "p=repub_data.reset_index()\n",
    "print(p)\n",
    "'''"
   ]
  },
  {
   "cell_type": "code",
   "execution_count": 47,
   "metadata": {},
   "outputs": [],
   "source": [
    "#repub_data =  pd.read_sql_query(\"select [tweet_text] from tweets_raw where [Political_party] = 'Republican Party' \", conn) "
   ]
  },
  {
   "cell_type": "code",
   "execution_count": null,
   "metadata": {},
   "outputs": [],
   "source": []
  },
  {
   "cell_type": "code",
   "execution_count": 48,
   "metadata": {},
   "outputs": [],
   "source": [
    "#repub_topic_model[\"documents\"] = p[\"tweet_text\"]\n",
    "#repub_topic_model"
   ]
  },
  {
   "cell_type": "code",
   "execution_count": 49,
   "metadata": {},
   "outputs": [],
   "source": [
    "#topic_modelling_LDA = pd.concat([democ_topic_model, repub_topic_model], sort=False)\n",
    "#topic_modelling_LDA = topic_modelling_LDA.drop(['Topic_Probability'], axis=1)\n",
    "#print(len(topic_modelling_LDA))"
   ]
  },
  {
   "cell_type": "code",
   "execution_count": 50,
   "metadata": {},
   "outputs": [],
   "source": [
    "#print(topic_modelling_LDA)"
   ]
  },
  {
   "cell_type": "code",
   "execution_count": 51,
   "metadata": {},
   "outputs": [
    {
     "ename": "OperationalError",
     "evalue": "('08S01', '[08S01] [Microsoft][ODBC Driver 17 for SQL Server]TCP Provider: Error code 0x20 (32) (SQLExecDirectW)')",
     "output_type": "error",
     "traceback": [
      "\u001b[0;31m---------------------------------------------------------------------------\u001b[0m",
      "\u001b[0;31mOperationalError\u001b[0m                          Traceback (most recent call last)",
      "\u001b[0;32m<ipython-input-51-c663f4d695e1>\u001b[0m in \u001b[0;36m<module>\u001b[0;34m\u001b[0m\n\u001b[1;32m      1\u001b[0m \u001b[0mtemp_creator\u001b[0m \u001b[0;34m=\u001b[0m \u001b[0;34m'''CREATE TABLE topic_modelling_LDA (documents nvarchar(max), probable_Topic nvarchar(50));'''\u001b[0m\u001b[0;34m\u001b[0m\u001b[0;34m\u001b[0m\u001b[0m\n\u001b[0;32m----> 2\u001b[0;31m \u001b[0mc\u001b[0m\u001b[0;34m.\u001b[0m\u001b[0mexecute\u001b[0m\u001b[0;34m(\u001b[0m\u001b[0mtemp_creator\u001b[0m\u001b[0;34m)\u001b[0m\u001b[0;34m\u001b[0m\u001b[0;34m\u001b[0m\u001b[0m\n\u001b[0m\u001b[1;32m      3\u001b[0m \u001b[0mc\u001b[0m\u001b[0;34m.\u001b[0m\u001b[0mcommit\u001b[0m\u001b[0;34m(\u001b[0m\u001b[0;34m)\u001b[0m\u001b[0;34m\u001b[0m\u001b[0;34m\u001b[0m\u001b[0m\n",
      "\u001b[0;31mOperationalError\u001b[0m: ('08S01', '[08S01] [Microsoft][ODBC Driver 17 for SQL Server]TCP Provider: Error code 0x20 (32) (SQLExecDirectW)')"
     ]
    }
   ],
   "source": [
    "temp_creator = '''CREATE TABLE topic_modelling_LDA (documents nvarchar(max), probable_Topic nvarchar(50));'''\n",
    "c.execute(temp_creator)\n",
    "c.commit()"
   ]
  },
  {
   "cell_type": "code",
   "execution_count": null,
   "metadata": {},
   "outputs": [],
   "source": [
    "for row_count in range(0, topic_modelling_LDA.shape[0]):\n",
    "      chunk = topic_modelling_LDA.iloc[row_count:row_count + 1,:].values.tolist()\n",
    "      tuple_of_tuples = tuple(tuple(x) for x in chunk)\n",
    "      c.executemany(\"INSERT INTO topic_modelling_LDA\" + \"([documents], [probable_Topic]) values(?,?)\", tuple_of_tuples)\n"
   ]
  },
  {
   "cell_type": "code",
   "execution_count": null,
   "metadata": {},
   "outputs": [],
   "source": [
    "c.commit()"
   ]
  },
  {
   "cell_type": "code",
   "execution_count": null,
   "metadata": {},
   "outputs": [],
   "source": [
    "c.close()"
   ]
  },
  {
   "cell_type": "code",
   "execution_count": 52,
   "metadata": {},
   "outputs": [],
   "source": [
    "(topic_model.to_pickle('topic_modelling_LDA_v4.p'))"
   ]
  },
  {
   "cell_type": "code",
   "execution_count": null,
   "metadata": {},
   "outputs": [],
   "source": []
  }
 ],
 "metadata": {
  "kernelspec": {
   "display_name": "Python 3",
   "language": "python",
   "name": "python3"
  },
  "language_info": {
   "codemirror_mode": {
    "name": "ipython",
    "version": 3
   },
   "file_extension": ".py",
   "mimetype": "text/x-python",
   "name": "python",
   "nbconvert_exporter": "python",
   "pygments_lexer": "ipython3",
   "version": "3.7.4"
  }
 },
 "nbformat": 4,
 "nbformat_minor": 4
}
